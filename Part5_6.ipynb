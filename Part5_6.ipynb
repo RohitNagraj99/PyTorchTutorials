{
 "cells": [
  {
   "cell_type": "code",
   "execution_count": 2,
   "metadata": {},
   "outputs": [],
   "source": [
    "import os\n",
    "import cv2\n",
    "import numpy as np\n",
    "from tqdm import tqdm"
   ]
  },
  {
   "cell_type": "code",
   "execution_count": 3,
   "metadata": {},
   "outputs": [],
   "source": [
    "REBUILD_DATA = False"
   ]
  },
  {
   "cell_type": "code",
   "execution_count": 5,
   "metadata": {},
   "outputs": [],
   "source": [
    "class DogsVSCats:\n",
    "    IMG_SIZE = 50\n",
    "    CATS = \"CatsDogs/PetImages/Cat/\"\n",
    "    DOGS = \"CatsDogs/PetImages/Dog/\"\n",
    "    LABELS = {CATS: 0, DOGS: 1}\n",
    "    \n",
    "    training_data = []\n",
    "    catcount = 0\n",
    "    dogcount = 0\n",
    "    \n",
    "    def make_training_data(self):\n",
    "        for label in self.LABELS:\n",
    "            print(label)\n",
    "            for f in tqdm(os.listdir(label)):\n",
    "                try:\n",
    "                    path = os.path.join(label, f)\n",
    "                    img = cv2.imread(path, cv2.IMREAD_GRAYSCALE)\n",
    "                    img = cv2.resize(img, (self.IMG_SIZE, self.IMG_SIZE))\n",
    "                    self.training_data.append([np.array(img), np.eye(2)[self.LABELS[label]]])\n",
    "\n",
    "                    if label == self.CATS:\n",
    "                        self.catcount += 1\n",
    "                    else:\n",
    "                        self.dogcount += 1\n",
    "                except Exception as e:\n",
    "                    print(str(e))\n",
    "                    \n",
    "        np.random.shuffle(self.training_data)\n",
    "        np.save(\"training_data.npy\", self.training_data)\n",
    "        \n",
    "        print(\"Cats: \", self.catcount)\n",
    "        print(\"Dogs: \", self.dogcount)\n",
    "                "
   ]
  },
  {
   "cell_type": "code",
   "execution_count": 6,
   "metadata": {},
   "outputs": [
    {
     "name": "stderr",
     "output_type": "stream",
     "text": [
      "  1%|          | 96/12501 [00:00<00:12, 957.99it/s]"
     ]
    },
    {
     "name": "stdout",
     "output_type": "stream",
     "text": [
      "CatsDogs/PetImages/Cat/\n",
      "OpenCV(4.1.2) /io/opencv/modules/imgproc/src/resize.cpp:3720: error: (-215:Assertion failed) !ssize.empty() in function 'resize'\n",
      "\n"
     ]
    },
    {
     "name": "stderr",
     "output_type": "stream",
     "text": [
      "  2%|▏         | 271/12501 [00:00<00:13, 900.00it/s]"
     ]
    },
    {
     "name": "stdout",
     "output_type": "stream",
     "text": [
      "OpenCV(4.1.2) /io/opencv/modules/imgproc/src/resize.cpp:3720: error: (-215:Assertion failed) !ssize.empty() in function 'resize'\n",
      "\n",
      "OpenCV(4.1.2) /io/opencv/modules/imgproc/src/resize.cpp:3720: error: (-215:Assertion failed) !ssize.empty() in function 'resize'\n",
      "\n"
     ]
    },
    {
     "name": "stderr",
     "output_type": "stream",
     "text": [
      "  3%|▎         | 415/12501 [00:00<00:15, 784.42it/s]"
     ]
    },
    {
     "name": "stdout",
     "output_type": "stream",
     "text": [
      "OpenCV(4.1.2) /io/opencv/modules/imgproc/src/resize.cpp:3720: error: (-215:Assertion failed) !ssize.empty() in function 'resize'\n",
      "\n"
     ]
    },
    {
     "name": "stderr",
     "output_type": "stream",
     "text": [
      "  5%|▍         | 603/12501 [00:00<00:19, 619.48it/s]"
     ]
    },
    {
     "name": "stdout",
     "output_type": "stream",
     "text": [
      "OpenCV(4.1.2) /io/opencv/modules/imgproc/src/resize.cpp:3720: error: (-215:Assertion failed) !ssize.empty() in function 'resize'\n",
      "\n"
     ]
    },
    {
     "name": "stderr",
     "output_type": "stream",
     "text": [
      " 20%|█▉        | 2442/12501 [00:03<00:13, 722.79it/s]"
     ]
    },
    {
     "name": "stdout",
     "output_type": "stream",
     "text": [
      "OpenCV(4.1.2) /io/opencv/modules/imgproc/src/resize.cpp:3720: error: (-215:Assertion failed) !ssize.empty() in function 'resize'\n",
      "\n"
     ]
    },
    {
     "name": "stderr",
     "output_type": "stream",
     "text": [
      " 22%|██▏       | 2761/12501 [00:03<00:12, 764.47it/s]"
     ]
    },
    {
     "name": "stdout",
     "output_type": "stream",
     "text": [
      "OpenCV(4.1.2) /io/opencv/modules/imgproc/src/resize.cpp:3720: error: (-215:Assertion failed) !ssize.empty() in function 'resize'\n",
      "\n",
      "OpenCV(4.1.2) /io/opencv/modules/imgproc/src/resize.cpp:3720: error: (-215:Assertion failed) !ssize.empty() in function 'resize'\n",
      "\n"
     ]
    },
    {
     "name": "stderr",
     "output_type": "stream",
     "text": [
      " 23%|██▎       | 2931/12501 [00:04<00:12, 780.00it/s]"
     ]
    },
    {
     "name": "stdout",
     "output_type": "stream",
     "text": [
      "OpenCV(4.1.2) /io/opencv/modules/imgproc/src/resize.cpp:3720: error: (-215:Assertion failed) !ssize.empty() in function 'resize'\n",
      "\n"
     ]
    },
    {
     "name": "stderr",
     "output_type": "stream",
     "text": [
      " 30%|███       | 3797/12501 [00:05<00:11, 783.78it/s]"
     ]
    },
    {
     "name": "stdout",
     "output_type": "stream",
     "text": [
      "OpenCV(4.1.2) /io/opencv/modules/imgproc/src/resize.cpp:3720: error: (-215:Assertion failed) !ssize.empty() in function 'resize'\n",
      "\n"
     ]
    },
    {
     "name": "stderr",
     "output_type": "stream",
     "text": [
      " 49%|████▉     | 6134/12501 [00:08<00:09, 698.90it/s]"
     ]
    },
    {
     "name": "stdout",
     "output_type": "stream",
     "text": [
      "OpenCV(4.1.2) /io/opencv/modules/imgproc/src/resize.cpp:3720: error: (-215:Assertion failed) !ssize.empty() in function 'resize'\n",
      "\n"
     ]
    },
    {
     "name": "stderr",
     "output_type": "stream",
     "text": [
      " 54%|█████▍    | 6807/12501 [00:09<00:07, 744.31it/s]"
     ]
    },
    {
     "name": "stdout",
     "output_type": "stream",
     "text": [
      "OpenCV(4.1.2) /io/opencv/modules/imgproc/src/resize.cpp:3720: error: (-215:Assertion failed) !ssize.empty() in function 'resize'\n",
      "\n"
     ]
    },
    {
     "name": "stderr",
     "output_type": "stream",
     "text": [
      " 66%|██████▋   | 8295/12501 [00:11<00:04, 934.63it/s]"
     ]
    },
    {
     "name": "stdout",
     "output_type": "stream",
     "text": [
      "OpenCV(4.1.2) /io/opencv/modules/imgproc/src/resize.cpp:3720: error: (-215:Assertion failed) !ssize.empty() in function 'resize'\n",
      "\n"
     ]
    },
    {
     "name": "stderr",
     "output_type": "stream",
     "text": [
      " 69%|██████▉   | 8644/12501 [00:11<00:03, 1081.94it/s]"
     ]
    },
    {
     "name": "stdout",
     "output_type": "stream",
     "text": [
      "OpenCV(4.1.2) /io/opencv/modules/imgproc/src/resize.cpp:3720: error: (-215:Assertion failed) !ssize.empty() in function 'resize'\n",
      "\n"
     ]
    },
    {
     "name": "stderr",
     "output_type": "stream",
     "text": [
      " 72%|███████▏  | 9052/12501 [00:12<00:02, 1257.40it/s]"
     ]
    },
    {
     "name": "stdout",
     "output_type": "stream",
     "text": [
      "OpenCV(4.1.2) /io/opencv/modules/imgproc/src/resize.cpp:3720: error: (-215:Assertion failed) !ssize.empty() in function 'resize'\n",
      "\n",
      "OpenCV(4.1.2) /io/opencv/modules/imgproc/src/resize.cpp:3720: error: (-215:Assertion failed) !ssize.empty() in function 'resize'\n",
      "\n"
     ]
    },
    {
     "name": "stderr",
     "output_type": "stream",
     "text": [
      " 77%|███████▋  | 9564/12501 [00:12<00:02, 1196.11it/s]"
     ]
    },
    {
     "name": "stdout",
     "output_type": "stream",
     "text": [
      "OpenCV(4.1.2) /io/opencv/modules/imgproc/src/resize.cpp:3720: error: (-215:Assertion failed) !ssize.empty() in function 'resize'\n",
      "\n",
      "OpenCV(4.1.2) /io/opencv/modules/imgproc/src/resize.cpp:3720: error: (-215:Assertion failed) !ssize.empty() in function 'resize'\n",
      "\n"
     ]
    },
    {
     "name": "stderr",
     "output_type": "stream",
     "text": [
      " 79%|███████▊  | 9817/12501 [00:12<00:02, 1195.75it/s]"
     ]
    },
    {
     "name": "stdout",
     "output_type": "stream",
     "text": [
      "OpenCV(4.1.2) /io/opencv/modules/imgproc/src/resize.cpp:3720: error: (-215:Assertion failed) !ssize.empty() in function 'resize'\n",
      "\n"
     ]
    },
    {
     "name": "stderr",
     "output_type": "stream",
     "text": [
      " 87%|████████▋ | 10878/12501 [00:13<00:01, 1000.65it/s]"
     ]
    },
    {
     "name": "stdout",
     "output_type": "stream",
     "text": [
      "OpenCV(4.1.2) /io/opencv/modules/imgproc/src/resize.cpp:3720: error: (-215:Assertion failed) !ssize.empty() in function 'resize'\n",
      "\n",
      "OpenCV(4.1.2) /io/opencv/modules/imgproc/src/resize.cpp:3720: error: (-215:Assertion failed) !ssize.empty() in function 'resize'\n",
      "\n",
      "OpenCV(4.1.2) /io/opencv/modules/imgproc/src/resize.cpp:3720: error: (-215:Assertion failed) !ssize.empty() in function 'resize'\n",
      "\n"
     ]
    },
    {
     "name": "stderr",
     "output_type": "stream",
     "text": [
      " 95%|█████████▌| 11929/12501 [00:14<00:00, 1159.49it/s]"
     ]
    },
    {
     "name": "stdout",
     "output_type": "stream",
     "text": [
      "OpenCV(4.1.2) /io/opencv/modules/imgproc/src/resize.cpp:3720: error: (-215:Assertion failed) !ssize.empty() in function 'resize'\n",
      "\n"
     ]
    },
    {
     "name": "stderr",
     "output_type": "stream",
     "text": [
      " 97%|█████████▋| 12164/12501 [00:14<00:00, 1155.17it/s]"
     ]
    },
    {
     "name": "stdout",
     "output_type": "stream",
     "text": [
      "OpenCV(4.1.2) /io/opencv/modules/imgproc/src/resize.cpp:3720: error: (-215:Assertion failed) !ssize.empty() in function 'resize'\n",
      "\n",
      "OpenCV(4.1.2) /io/opencv/modules/imgproc/src/resize.cpp:3720: error: (-215:Assertion failed) !ssize.empty() in function 'resize'\n",
      "\n"
     ]
    },
    {
     "name": "stderr",
     "output_type": "stream",
     "text": [
      "100%|██████████| 12501/12501 [00:15<00:00, 825.81it/s] \n",
      "  1%|          | 120/12501 [00:00<00:10, 1190.33it/s]"
     ]
    },
    {
     "name": "stdout",
     "output_type": "stream",
     "text": [
      "CatsDogs/PetImages/Dog/\n"
     ]
    },
    {
     "name": "stderr",
     "output_type": "stream",
     "text": [
      "  8%|▊         | 1017/12501 [00:00<00:10, 1131.27it/s]"
     ]
    },
    {
     "name": "stdout",
     "output_type": "stream",
     "text": [
      "OpenCV(4.1.2) /io/opencv/modules/imgproc/src/resize.cpp:3720: error: (-215:Assertion failed) !ssize.empty() in function 'resize'\n",
      "\n"
     ]
    },
    {
     "name": "stderr",
     "output_type": "stream",
     "text": [
      " 10%|█         | 1252/12501 [00:01<00:09, 1142.07it/s]"
     ]
    },
    {
     "name": "stdout",
     "output_type": "stream",
     "text": [
      "OpenCV(4.1.2) /io/opencv/modules/imgproc/src/resize.cpp:3720: error: (-215:Assertion failed) !ssize.empty() in function 'resize'\n",
      "\n",
      "OpenCV(4.1.2) /io/opencv/modules/imgproc/src/resize.cpp:3720: error: (-215:Assertion failed) !ssize.empty() in function 'resize'\n",
      "\n",
      "OpenCV(4.1.2) /io/opencv/modules/imgproc/src/resize.cpp:3720: error: (-215:Assertion failed) !ssize.empty() in function 'resize'\n",
      "\n"
     ]
    },
    {
     "name": "stderr",
     "output_type": "stream",
     "text": [
      " 14%|█▎        | 1715/12501 [00:01<00:09, 1121.94it/s]"
     ]
    },
    {
     "name": "stdout",
     "output_type": "stream",
     "text": [
      "OpenCV(4.1.2) /io/opencv/modules/imgproc/src/resize.cpp:3720: error: (-215:Assertion failed) !ssize.empty() in function 'resize'\n",
      "\n",
      "OpenCV(4.1.2) /io/opencv/modules/imgproc/src/resize.cpp:3720: error: (-215:Assertion failed) !ssize.empty() in function 'resize'\n",
      "\n"
     ]
    },
    {
     "name": "stderr",
     "output_type": "stream",
     "text": [
      " 18%|█▊        | 2285/12501 [00:02<00:09, 1110.61it/s]"
     ]
    },
    {
     "name": "stdout",
     "output_type": "stream",
     "text": [
      "OpenCV(4.1.2) /io/opencv/modules/imgproc/src/resize.cpp:3720: error: (-215:Assertion failed) !ssize.empty() in function 'resize'\n",
      "\n"
     ]
    },
    {
     "name": "stderr",
     "output_type": "stream",
     "text": [
      " 21%|██▏       | 2669/12501 [00:02<00:08, 1209.80it/s]"
     ]
    },
    {
     "name": "stdout",
     "output_type": "stream",
     "text": [
      "OpenCV(4.1.2) /io/opencv/modules/imgproc/src/resize.cpp:3720: error: (-215:Assertion failed) !ssize.empty() in function 'resize'\n",
      "\n",
      "OpenCV(4.1.2) /io/opencv/modules/imgproc/src/resize.cpp:3720: error: (-215:Assertion failed) !ssize.empty() in function 'resize'\n",
      "\n"
     ]
    },
    {
     "name": "stderr",
     "output_type": "stream",
     "text": [
      " 25%|██▌       | 3177/12501 [00:02<00:07, 1259.70it/s]"
     ]
    },
    {
     "name": "stdout",
     "output_type": "stream",
     "text": [
      "OpenCV(4.1.2) /io/opencv/modules/imgproc/src/resize.cpp:3720: error: (-215:Assertion failed) !ssize.empty() in function 'resize'\n",
      "\n"
     ]
    },
    {
     "name": "stderr",
     "output_type": "stream",
     "text": [
      " 31%|███       | 3839/12501 [00:03<00:06, 1291.53it/s]"
     ]
    },
    {
     "name": "stdout",
     "output_type": "stream",
     "text": [
      "OpenCV(4.1.2) /io/opencv/modules/imgproc/src/resize.cpp:3720: error: (-215:Assertion failed) !ssize.empty() in function 'resize'\n",
      "\n"
     ]
    },
    {
     "name": "stderr",
     "output_type": "stream",
     "text": [
      " 41%|████▏     | 5176/12501 [00:04<00:05, 1267.89it/s]"
     ]
    },
    {
     "name": "stdout",
     "output_type": "stream",
     "text": [
      "OpenCV(4.1.2) /io/opencv/modules/imgproc/src/resize.cpp:3720: error: (-215:Assertion failed) !ssize.empty() in function 'resize'\n",
      "\n",
      "OpenCV(4.1.2) /io/opencv/modules/imgproc/src/resize.cpp:3720: error: (-215:Assertion failed) !ssize.empty() in function 'resize'\n",
      "\n"
     ]
    },
    {
     "name": "stderr",
     "output_type": "stream",
     "text": [
      " 48%|████▊     | 5952/12501 [00:04<00:05, 1263.72it/s]"
     ]
    },
    {
     "name": "stdout",
     "output_type": "stream",
     "text": [
      "OpenCV(4.1.2) /io/opencv/modules/imgproc/src/resize.cpp:3720: error: (-215:Assertion failed) !ssize.empty() in function 'resize'\n",
      "\n"
     ]
    },
    {
     "name": "stderr",
     "output_type": "stream",
     "text": [
      " 50%|████▉     | 6218/12501 [00:05<00:04, 1298.69it/s]"
     ]
    },
    {
     "name": "stdout",
     "output_type": "stream",
     "text": [
      "OpenCV(4.1.2) /io/opencv/modules/imgproc/src/resize.cpp:3720: error: (-215:Assertion failed) !ssize.empty() in function 'resize'\n",
      "\n"
     ]
    },
    {
     "name": "stderr",
     "output_type": "stream",
     "text": [
      " 53%|█████▎    | 6618/12501 [00:05<00:04, 1274.70it/s]"
     ]
    },
    {
     "name": "stdout",
     "output_type": "stream",
     "text": [
      "OpenCV(4.1.2) /io/opencv/modules/imgproc/src/resize.cpp:3720: error: (-215:Assertion failed) !ssize.empty() in function 'resize'\n",
      "\n",
      "OpenCV(4.1.2) /io/opencv/modules/imgproc/src/resize.cpp:3720: error: (-215:Assertion failed) !ssize.empty() in function 'resize'\n",
      "\n"
     ]
    },
    {
     "name": "stderr",
     "output_type": "stream",
     "text": [
      " 69%|██████▉   | 8650/12501 [00:07<00:02, 1292.47it/s]"
     ]
    },
    {
     "name": "stdout",
     "output_type": "stream",
     "text": [
      "OpenCV(4.1.2) /io/opencv/modules/imgproc/src/resize.cpp:3720: error: (-215:Assertion failed) !ssize.empty() in function 'resize'\n",
      "\n",
      "OpenCV(4.1.2) /io/opencv/modules/imgproc/src/resize.cpp:3720: error: (-215:Assertion failed) !ssize.empty() in function 'resize'\n",
      "\n"
     ]
    },
    {
     "name": "stderr",
     "output_type": "stream",
     "text": [
      " 73%|███████▎  | 9165/12501 [00:07<00:02, 1259.49it/s]"
     ]
    },
    {
     "name": "stdout",
     "output_type": "stream",
     "text": [
      "OpenCV(4.1.2) /io/opencv/modules/imgproc/src/resize.cpp:3720: error: (-215:Assertion failed) !ssize.empty() in function 'resize'\n",
      "\n",
      "OpenCV(4.1.2) /io/opencv/modules/imgproc/src/resize.cpp:3720: error: (-215:Assertion failed) !ssize.empty() in function 'resize'\n",
      "\n"
     ]
    },
    {
     "name": "stderr",
     "output_type": "stream",
     "text": [
      " 76%|███████▋  | 9544/12501 [00:07<00:02, 1255.61it/s]"
     ]
    },
    {
     "name": "stdout",
     "output_type": "stream",
     "text": [
      "OpenCV(4.1.2) /io/opencv/modules/imgproc/src/resize.cpp:3720: error: (-215:Assertion failed) !ssize.empty() in function 'resize'\n",
      "\n",
      "OpenCV(4.1.2) /io/opencv/modules/imgproc/src/resize.cpp:3720: error: (-215:Assertion failed) !ssize.empty() in function 'resize'\n",
      "\n",
      "OpenCV(4.1.2) /io/opencv/modules/imgproc/src/resize.cpp:3720: error: (-215:Assertion failed) !ssize.empty() in function 'resize'\n",
      "\n"
     ]
    },
    {
     "name": "stderr",
     "output_type": "stream",
     "text": [
      " 78%|███████▊  | 9798/12501 [00:07<00:02, 1240.40it/s]"
     ]
    },
    {
     "name": "stdout",
     "output_type": "stream",
     "text": [
      "OpenCV(4.1.2) /io/opencv/modules/imgproc/src/resize.cpp:3720: error: (-215:Assertion failed) !ssize.empty() in function 'resize'\n",
      "\n",
      "OpenCV(4.1.2) /io/opencv/modules/imgproc/src/resize.cpp:3720: error: (-215:Assertion failed) !ssize.empty() in function 'resize'\n",
      "\n"
     ]
    },
    {
     "name": "stderr",
     "output_type": "stream",
     "text": [
      " 82%|████████▏ | 10303/12501 [00:08<00:01, 1249.73it/s]"
     ]
    },
    {
     "name": "stdout",
     "output_type": "stream",
     "text": [
      "OpenCV(4.1.2) /io/opencv/modules/imgproc/src/resize.cpp:3720: error: (-215:Assertion failed) !ssize.empty() in function 'resize'\n",
      "\n",
      "OpenCV(4.1.2) /io/opencv/modules/imgproc/src/resize.cpp:3720: error: (-215:Assertion failed) !ssize.empty() in function 'resize'\n",
      "\n"
     ]
    },
    {
     "name": "stderr",
     "output_type": "stream",
     "text": [
      " 97%|█████████▋| 12101/12501 [00:09<00:00, 1226.27it/s]"
     ]
    },
    {
     "name": "stdout",
     "output_type": "stream",
     "text": [
      "OpenCV(4.1.2) /io/opencv/modules/imgproc/src/resize.cpp:3720: error: (-215:Assertion failed) !ssize.empty() in function 'resize'\n",
      "\n",
      "OpenCV(4.1.2) /io/opencv/modules/imgproc/src/resize.cpp:3720: error: (-215:Assertion failed) !ssize.empty() in function 'resize'\n",
      "\n"
     ]
    },
    {
     "name": "stderr",
     "output_type": "stream",
     "text": [
      "100%|██████████| 12501/12501 [00:10<00:00, 1234.98it/s]\n"
     ]
    },
    {
     "name": "stdout",
     "output_type": "stream",
     "text": [
      "OpenCV(4.1.2) /io/opencv/modules/imgproc/src/resize.cpp:3720: error: (-215:Assertion failed) !ssize.empty() in function 'resize'\n",
      "\n",
      "Cats:  12476\n",
      "Dogs:  12470\n"
     ]
    }
   ],
   "source": [
    "if REBUILD_DATA == True:\n",
    "    dogsvscats = DogsVSCats()\n",
    "    dogsvscats.make_training_data()"
   ]
  },
  {
   "cell_type": "code",
   "execution_count": 8,
   "metadata": {},
   "outputs": [],
   "source": [
    "training_data = dogsvscats.training_data"
   ]
  },
  {
   "cell_type": "code",
   "execution_count": 16,
   "metadata": {},
   "outputs": [
    {
     "name": "stdout",
     "output_type": "stream",
     "text": [
      "[[231 228 232 ... 104 145  57]\n",
      " [231 234 189 ...  65  89  98]\n",
      " [230 201 159 ...  99 146  92]\n",
      " ...\n",
      " [ 14  21 107 ... 112  92 210]\n",
      " [ 60  36  70 ... 173 218 232]\n",
      " [ 82 117  82 ... 228 233 230]]\n"
     ]
    }
   ],
   "source": [
    "print(training_data[0][0])"
   ]
  },
  {
   "cell_type": "code",
   "execution_count": 13,
   "metadata": {},
   "outputs": [],
   "source": [
    "import matplotlib.pyplot as plt\n",
    "%matplotlib inline"
   ]
  },
  {
   "cell_type": "code",
   "execution_count": 21,
   "metadata": {},
   "outputs": [
    {
     "data": {
      "text/plain": [
       "<matplotlib.image.AxesImage at 0x7f607a4fc9d0>"
      ]
     },
     "execution_count": 21,
     "metadata": {},
     "output_type": "execute_result"
    },
    {
     "data": {
      "image/png": "[encoded data removed]",
      "text/plain": [
       "<Figure size 432x288 with 1 Axes>"
      ]
     },
     "metadata": {
      "needs_background": "light"
     },
     "output_type": "display_data"
    }
   ],
   "source": [
    "plt.imshow(training_data[2][0], cmap = 'gray')"
   ]
  },
  {
   "cell_type": "code",
   "execution_count": 22,
   "metadata": {},
   "outputs": [],
   "source": [
    "import torch\n",
    "import torch.nn as nn\n",
    "import torch.nn.functional as F"
   ]
  },
  {
   "cell_type": "code",
   "execution_count": 84,
   "metadata": {},
   "outputs": [],
   "source": [
    "class Net(nn.Module):\n",
    "    def __init__(self):\n",
    "        super().__init__()\n",
    "        \n",
    "        self.conv1 = nn.Conv2d(1, 32, 5)\n",
    "        self.conv2 = nn.Conv2d(32, 64, 5)\n",
    "        self.conv3 = nn.Conv2d(64, 128, 5)\n",
    "        \n",
    "        x = torch.randn(50,50).view(-1, 1, 50, 50)\n",
    "        self._to_linear = None\n",
    "        \n",
    "        self.convs(x)\n",
    "        self.fc1 = nn.Linear(self._to_linear, 512)\n",
    "        self.fc2 = nn.Linear(512, 2)\n",
    "        \n",
    "    def convs(self,x):\n",
    "        x = F.max_pool2d(F.relu(self.conv1(x)), (2,2))\n",
    "        x = F.max_pool2d(F.relu(self.conv2(x)), (2,2))\n",
    "        x = F.max_pool2d(F.relu(self.conv3(x)), (2,2))\n",
    "        if self._to_linear is None:\n",
    "            self._to_linear = torch.flatten(x).shape[0]\n",
    "        return x\n",
    "    \n",
    "    def forward(self, x):\n",
    "        x = self.convs(x)\n",
    "        x = x.view(-1, self._to_linear)\n",
    "        x = F.relu(self.fc1(x))\n",
    "        x = F.log_softmax(self.fc2(x), dim=1)\n",
    "        return x"
   ]
  },
  {
   "cell_type": "code",
   "execution_count": 85,
   "metadata": {},
   "outputs": [],
   "source": [
    "net = Net()"
   ]
  },
  {
   "cell_type": "markdown",
   "metadata": {},
   "source": [
    "* When used for classifiers the log-softmax has the effect of heavily penalizing the model when it fails to predict a correct class. Whether or not that penalization works well for solving your problem is open to your testing, so both log-softmax and softmax are worth using."
   ]
  },
  {
   "cell_type": "code",
   "execution_count": 86,
   "metadata": {},
   "outputs": [],
   "source": [
    "import torch.optim as optim\n",
    "optimizer = optim.Adam(net.parameters(), lr = 1e-3)\n",
    "loss_function = nn.MSELoss()\n",
    "\n",
    "X = torch.Tensor([i[0] for i in training_data]).view(-1, 50, 50)\n",
    "X /= 255.\n",
    "y = torch.Tensor([i[1] for i in training_data])\n"
   ]
  },
  {
   "cell_type": "code",
   "execution_count": 87,
   "metadata": {},
   "outputs": [],
   "source": [
    "VAL_PCT = 0.1\n",
    "val_size = (int(len(X)*VAL_PCT))"
   ]
  },
  {
   "cell_type": "code",
   "execution_count": 88,
   "metadata": {},
   "outputs": [],
   "source": [
    "train_X = X[:-val_size]\n",
    "train_y = y[:-val_size]\n",
    "\n",
    "test_X = X[-val_size:]\n",
    "test_y = y[-val_size:]"
   ]
  },
  {
   "cell_type": "code",
   "execution_count": 94,
   "metadata": {},
   "outputs": [],
   "source": [
    "BATCH_SIZE = 64\n",
    "EPOCHS = 3"
   ]
  },
  {
   "cell_type": "code",
   "execution_count": 95,
   "metadata": {},
   "outputs": [
    {
     "name": "stderr",
     "output_type": "stream",
     "text": [
      "\n",
      "  0%|          | 0/351 [00:00<?, ?it/s]\u001b[A\n",
      "  0%|          | 1/351 [00:00<00:36,  9.51it/s]\u001b[A\n",
      "  1%|          | 2/351 [00:00<00:37,  9.23it/s]\u001b[A\n",
      "  1%|          | 3/351 [00:00<00:39,  8.91it/s]\u001b[A\n",
      "  1%|          | 4/351 [00:00<00:40,  8.58it/s]\u001b[A\n",
      "  1%|▏         | 5/351 [00:00<00:40,  8.49it/s]\u001b[A\n",
      "  2%|▏         | 6/351 [00:00<00:43,  7.96it/s]\u001b[A\n",
      "  2%|▏         | 7/351 [00:00<00:44,  7.78it/s]\u001b[A\n",
      "  2%|▏         | 8/351 [00:00<00:43,  7.86it/s]\u001b[A\n",
      "  3%|▎         | 9/351 [00:01<00:46,  7.39it/s]\u001b[A\n",
      "  3%|▎         | 10/351 [00:01<00:46,  7.34it/s]\u001b[A\n",
      "  3%|▎         | 11/351 [00:01<00:48,  6.99it/s]\u001b[A\n",
      "  3%|▎         | 12/351 [00:01<00:47,  7.20it/s]\u001b[A\n",
      "  4%|▎         | 13/351 [00:01<00:46,  7.33it/s]\u001b[A\n",
      "  4%|▍         | 14/351 [00:01<00:44,  7.49it/s]\u001b[A\n",
      "  4%|▍         | 15/351 [00:01<00:44,  7.63it/s]\u001b[A\n",
      "  5%|▍         | 16/351 [00:02<00:42,  7.97it/s]\u001b[A\n",
      "  5%|▍         | 17/351 [00:02<00:41,  8.07it/s]\u001b[A\n",
      "  5%|▌         | 18/351 [00:02<00:42,  7.90it/s]\u001b[A\n",
      "  5%|▌         | 19/351 [00:02<00:42,  7.87it/s]\u001b[A\n",
      "  6%|▌         | 20/351 [00:02<00:41,  7.91it/s]\u001b[A\n",
      "  6%|▌         | 21/351 [00:02<00:41,  7.96it/s]\u001b[A\n",
      "  6%|▋         | 22/351 [00:02<00:43,  7.64it/s]\u001b[A\n",
      "  7%|▋         | 23/351 [00:02<00:43,  7.46it/s]\u001b[A\n",
      "  7%|▋         | 24/351 [00:03<00:44,  7.38it/s]\u001b[A\n",
      "  7%|▋         | 25/351 [00:03<00:43,  7.51it/s]\u001b[A\n",
      "  7%|▋         | 26/351 [00:03<00:42,  7.66it/s]\u001b[A\n",
      "  8%|▊         | 27/351 [00:03<00:42,  7.56it/s]\u001b[A\n",
      "  8%|▊         | 28/351 [00:03<00:44,  7.33it/s]\u001b[A\n",
      "  8%|▊         | 29/351 [00:03<00:44,  7.26it/s]\u001b[A\n",
      "  9%|▊         | 30/351 [00:03<00:42,  7.60it/s]\u001b[A\n",
      "  9%|▉         | 31/351 [00:04<00:41,  7.70it/s]\u001b[A\n",
      "  9%|▉         | 32/351 [00:04<00:42,  7.52it/s]\u001b[A\n",
      "  9%|▉         | 33/351 [00:04<00:40,  7.78it/s]\u001b[A\n",
      " 10%|▉         | 34/351 [00:04<00:39,  8.11it/s]\u001b[A\n",
      " 10%|▉         | 35/351 [00:04<00:38,  8.25it/s]\u001b[A\n",
      " 10%|█         | 36/351 [00:04<00:37,  8.42it/s]\u001b[A\n",
      " 11%|█         | 37/351 [00:04<00:38,  8.10it/s]\u001b[A\n",
      " 11%|█         | 38/351 [00:04<00:39,  7.93it/s]\u001b[A\n",
      " 11%|█         | 39/351 [00:05<00:38,  8.14it/s]\u001b[A\n",
      " 11%|█▏        | 40/351 [00:05<00:38,  8.02it/s]\u001b[A\n",
      " 12%|█▏        | 41/351 [00:05<00:41,  7.48it/s]\u001b[A\n",
      " 12%|█▏        | 42/351 [00:05<00:41,  7.47it/s]\u001b[A\n",
      " 12%|█▏        | 43/351 [00:05<00:43,  7.10it/s]\u001b[A\n",
      " 13%|█▎        | 44/351 [00:05<00:42,  7.31it/s]\u001b[A\n",
      " 13%|█▎        | 45/351 [00:05<00:41,  7.33it/s]\u001b[A\n",
      " 13%|█▎        | 46/351 [00:06<00:42,  7.24it/s]\u001b[A\n",
      " 13%|█▎        | 47/351 [00:06<00:43,  6.93it/s]\u001b[A\n",
      " 14%|█▎        | 48/351 [00:06<00:47,  6.40it/s]\u001b[A\n",
      " 14%|█▍        | 49/351 [00:06<00:51,  5.82it/s]\u001b[A\n",
      " 14%|█▍        | 50/351 [00:06<00:57,  5.22it/s]\u001b[A\n",
      " 15%|█▍        | 51/351 [00:06<00:54,  5.50it/s]\u001b[A\n",
      " 15%|█▍        | 52/351 [00:07<00:56,  5.29it/s]\u001b[A\n",
      " 15%|█▌        | 53/351 [00:07<00:56,  5.31it/s]\u001b[A\n",
      " 15%|█▌        | 54/351 [00:07<00:54,  5.47it/s]\u001b[A\n",
      " 16%|█▌        | 55/351 [00:07<00:55,  5.34it/s]\u001b[A\n",
      " 16%|█▌        | 56/351 [00:07<00:54,  5.44it/s]\u001b[A\n",
      " 16%|█▌        | 57/351 [00:08<00:52,  5.64it/s]\u001b[A\n",
      " 17%|█▋        | 58/351 [00:08<00:50,  5.77it/s]\u001b[A\n",
      " 17%|█▋        | 59/351 [00:08<00:51,  5.64it/s]\u001b[A\n",
      " 17%|█▋        | 60/351 [00:08<00:52,  5.54it/s]\u001b[A\n",
      " 17%|█▋        | 61/351 [00:08<00:55,  5.20it/s]\u001b[A\n",
      " 18%|█▊        | 62/351 [00:08<00:54,  5.27it/s]\u001b[A\n",
      " 18%|█▊        | 63/351 [00:09<00:52,  5.48it/s]\u001b[A\n",
      " 18%|█▊        | 64/351 [00:09<00:52,  5.49it/s]\u001b[A\n",
      " 19%|█▊        | 65/351 [00:09<00:52,  5.50it/s]\u001b[A\n",
      " 19%|█▉        | 66/351 [00:09<00:51,  5.54it/s]\u001b[A\n",
      " 19%|█▉        | 67/351 [00:09<00:51,  5.50it/s]\u001b[A\n",
      " 19%|█▉        | 68/351 [00:10<00:49,  5.71it/s]\u001b[A\n",
      " 20%|█▉        | 69/351 [00:10<00:49,  5.66it/s]\u001b[A\n",
      " 20%|█▉        | 70/351 [00:10<00:48,  5.75it/s]\u001b[A\n",
      " 20%|██        | 71/351 [00:10<00:47,  5.92it/s]\u001b[A\n",
      " 21%|██        | 72/351 [00:10<00:48,  5.78it/s]\u001b[A\n",
      " 21%|██        | 73/351 [00:10<00:46,  5.92it/s]\u001b[A\n",
      " 21%|██        | 74/351 [00:11<00:45,  6.06it/s]\u001b[A\n",
      " 21%|██▏       | 75/351 [00:11<00:45,  6.07it/s]\u001b[A\n",
      " 22%|██▏       | 76/351 [00:11<00:45,  6.09it/s]\u001b[A\n",
      " 22%|██▏       | 77/351 [00:11<00:44,  6.17it/s]\u001b[A\n",
      " 22%|██▏       | 78/351 [00:11<00:44,  6.19it/s]\u001b[A\n",
      " 23%|██▎       | 79/351 [00:11<00:45,  5.96it/s]\u001b[A\n",
      " 23%|██▎       | 80/351 [00:12<00:44,  6.05it/s]\u001b[A\n",
      " 23%|██▎       | 81/351 [00:12<00:46,  5.80it/s]\u001b[A\n",
      " 23%|██▎       | 82/351 [00:12<00:45,  5.93it/s]\u001b[A\n",
      " 24%|██▎       | 83/351 [00:12<00:45,  5.84it/s]\u001b[A\n",
      " 24%|██▍       | 84/351 [00:12<00:43,  6.08it/s]\u001b[A\n",
      " 24%|██▍       | 85/351 [00:12<00:42,  6.28it/s]\u001b[A\n",
      " 25%|██▍       | 86/351 [00:12<00:41,  6.42it/s]\u001b[A\n",
      " 25%|██▍       | 87/351 [00:13<00:41,  6.38it/s]\u001b[A\n",
      " 25%|██▌       | 88/351 [00:13<00:42,  6.13it/s]\u001b[A\n",
      " 25%|██▌       | 89/351 [00:13<00:46,  5.60it/s]\u001b[A\n",
      " 26%|██▌       | 90/351 [00:13<00:52,  4.99it/s]\u001b[A\n",
      " 26%|██▌       | 91/351 [00:14<00:53,  4.88it/s]\u001b[A\n",
      " 26%|██▌       | 92/351 [00:14<00:53,  4.87it/s]\u001b[A\n",
      " 26%|██▋       | 93/351 [00:14<00:49,  5.17it/s]\u001b[A\n",
      " 27%|██▋       | 94/351 [00:14<00:48,  5.26it/s]\u001b[A\n",
      " 27%|██▋       | 95/351 [00:14<00:51,  4.99it/s]\u001b[A\n",
      " 27%|██▋       | 96/351 [00:14<00:48,  5.30it/s]\u001b[A\n",
      " 28%|██▊       | 97/351 [00:15<00:46,  5.43it/s]\u001b[A\n",
      " 28%|██▊       | 98/351 [00:15<00:45,  5.53it/s]\u001b[A\n",
      " 28%|██▊       | 99/351 [00:15<00:44,  5.62it/s]\u001b[A\n",
      " 28%|██▊       | 100/351 [00:15<00:44,  5.59it/s]\u001b[A\n",
      " 29%|██▉       | 101/351 [00:15<00:44,  5.61it/s]\u001b[A\n",
      " 29%|██▉       | 102/351 [00:16<00:43,  5.66it/s]\u001b[A\n",
      " 29%|██▉       | 103/351 [00:16<00:43,  5.76it/s]\u001b[A\n",
      " 30%|██▉       | 104/351 [00:16<00:43,  5.69it/s]\u001b[A\n",
      " 30%|██▉       | 105/351 [00:16<00:42,  5.80it/s]\u001b[A\n",
      " 30%|███       | 106/351 [00:16<00:42,  5.81it/s]\u001b[A\n",
      " 30%|███       | 107/351 [00:16<00:41,  5.82it/s]\u001b[A\n",
      " 31%|███       | 108/351 [00:17<00:44,  5.52it/s]\u001b[A\n",
      " 31%|███       | 109/351 [00:17<00:42,  5.64it/s]\u001b[A\n",
      " 31%|███▏      | 110/351 [00:17<00:42,  5.62it/s]\u001b[A\n",
      " 32%|███▏      | 111/351 [00:17<00:43,  5.52it/s]\u001b[A\n",
      " 32%|███▏      | 112/351 [00:17<00:43,  5.45it/s]\u001b[A\n",
      " 32%|███▏      | 113/351 [00:17<00:43,  5.41it/s]\u001b[A\n",
      " 32%|███▏      | 114/351 [00:18<00:43,  5.50it/s]\u001b[A\n",
      " 33%|███▎      | 115/351 [00:18<00:42,  5.49it/s]\u001b[A\n",
      " 33%|███▎      | 116/351 [00:18<00:42,  5.58it/s]\u001b[A\n",
      " 33%|███▎      | 117/351 [00:18<00:42,  5.53it/s]\u001b[A\n",
      " 34%|███▎      | 118/351 [00:18<00:44,  5.18it/s]\u001b[A\n",
      " 34%|███▍      | 119/351 [00:19<00:45,  5.14it/s]\u001b[A\n",
      " 34%|███▍      | 120/351 [00:19<00:44,  5.17it/s]\u001b[A\n",
      " 34%|███▍      | 121/351 [00:19<00:47,  4.80it/s]\u001b[A\n",
      " 35%|███▍      | 122/351 [00:19<00:54,  4.22it/s]\u001b[A\n",
      " 35%|███▌      | 123/351 [00:20<00:50,  4.55it/s]\u001b[A\n",
      " 35%|███▌      | 124/351 [00:20<00:53,  4.28it/s]\u001b[A\n",
      " 36%|███▌      | 125/351 [00:20<00:59,  3.83it/s]\u001b[A\n",
      " 36%|███▌      | 126/351 [00:20<01:00,  3.70it/s]\u001b[A\n",
      " 36%|███▌      | 127/351 [00:21<01:01,  3.65it/s]\u001b[A\n",
      " 36%|███▋      | 128/351 [00:21<00:54,  4.07it/s]\u001b[A\n",
      " 37%|███▋      | 129/351 [00:21<00:50,  4.36it/s]\u001b[A\n",
      " 37%|███▋      | 130/351 [00:21<00:48,  4.54it/s]\u001b[A\n",
      " 37%|███▋      | 131/351 [00:21<00:45,  4.82it/s]\u001b[A\n",
      " 38%|███▊      | 132/351 [00:22<00:43,  5.05it/s]\u001b[A\n",
      " 38%|███▊      | 133/351 [00:22<00:41,  5.29it/s]\u001b[A\n",
      " 38%|███▊      | 134/351 [00:22<00:40,  5.34it/s]\u001b[A\n",
      " 38%|███▊      | 135/351 [00:22<00:39,  5.53it/s]\u001b[A\n",
      " 39%|███▊      | 136/351 [00:22<00:38,  5.65it/s]\u001b[A\n",
      " 39%|███▉      | 137/351 [00:22<00:38,  5.63it/s]\u001b[A\n",
      " 39%|███▉      | 138/351 [00:23<00:41,  5.08it/s]\u001b[A\n",
      " 40%|███▉      | 139/351 [00:23<00:41,  5.08it/s]\u001b[A\n",
      " 40%|███▉      | 140/351 [00:23<00:45,  4.63it/s]\u001b[A\n",
      " 40%|████      | 141/351 [00:24<00:53,  3.93it/s]\u001b[A\n",
      " 40%|████      | 142/351 [00:24<00:55,  3.79it/s]\u001b[A\n",
      " 41%|████      | 143/351 [00:24<00:54,  3.79it/s]\u001b[A\n",
      " 41%|████      | 144/351 [00:24<00:53,  3.87it/s]\u001b[A\n",
      " 41%|████▏     | 145/351 [00:25<00:57,  3.61it/s]\u001b[A\n",
      " 42%|████▏     | 146/351 [00:25<00:59,  3.43it/s]\u001b[A\n",
      " 42%|████▏     | 147/351 [00:25<00:56,  3.63it/s]\u001b[A\n",
      " 42%|████▏     | 148/351 [00:26<01:00,  3.38it/s]\u001b[A\n",
      " 42%|████▏     | 149/351 [00:26<01:02,  3.21it/s]\u001b[A\n",
      " 43%|████▎     | 150/351 [00:26<01:01,  3.28it/s]\u001b[A\n",
      " 43%|████▎     | 151/351 [00:26<00:53,  3.72it/s]\u001b[A\n",
      " 43%|████▎     | 152/351 [00:27<00:46,  4.27it/s]\u001b[A\n",
      " 44%|████▎     | 153/351 [00:27<00:42,  4.64it/s]\u001b[A\n",
      " 44%|████▍     | 154/351 [00:27<00:41,  4.79it/s]\u001b[A\n",
      " 44%|████▍     | 155/351 [00:27<00:40,  4.80it/s]\u001b[A\n"
     ]
    },
    {
     "name": "stderr",
     "output_type": "stream",
     "text": [
      " 44%|████▍     | 156/351 [00:27<00:38,  5.06it/s]\u001b[A\n",
      " 45%|████▍     | 157/351 [00:27<00:36,  5.36it/s]\u001b[A\n",
      " 45%|████▌     | 158/351 [00:28<00:34,  5.64it/s]\u001b[A\n",
      " 45%|████▌     | 159/351 [00:28<00:33,  5.81it/s]\u001b[A\n",
      " 46%|████▌     | 160/351 [00:28<00:31,  6.02it/s]\u001b[A\n",
      " 46%|████▌     | 161/351 [00:28<00:30,  6.32it/s]\u001b[A\n",
      " 46%|████▌     | 162/351 [00:28<00:28,  6.53it/s]\u001b[A\n",
      " 46%|████▋     | 163/351 [00:28<00:28,  6.66it/s]\u001b[A\n",
      " 47%|████▋     | 164/351 [00:28<00:27,  6.75it/s]\u001b[A\n",
      " 47%|████▋     | 165/351 [00:29<00:28,  6.63it/s]\u001b[A\n",
      " 47%|████▋     | 166/351 [00:29<00:28,  6.49it/s]\u001b[A\n",
      " 48%|████▊     | 167/351 [00:29<00:28,  6.46it/s]\u001b[A\n",
      " 48%|████▊     | 168/351 [00:29<00:28,  6.53it/s]\u001b[A\n",
      " 48%|████▊     | 169/351 [00:29<00:28,  6.43it/s]\u001b[A\n",
      " 48%|████▊     | 170/351 [00:29<00:27,  6.50it/s]\u001b[A\n",
      " 49%|████▊     | 171/351 [00:30<00:27,  6.44it/s]\u001b[A\n",
      " 49%|████▉     | 172/351 [00:30<00:29,  6.05it/s]\u001b[A\n",
      " 49%|████▉     | 173/351 [00:30<00:31,  5.70it/s]\u001b[A\n",
      " 50%|████▉     | 174/351 [00:30<00:30,  5.72it/s]\u001b[A\n",
      " 50%|████▉     | 175/351 [00:30<00:30,  5.83it/s]\u001b[A\n",
      " 50%|█████     | 176/351 [00:30<00:30,  5.71it/s]\u001b[A\n",
      " 50%|█████     | 177/351 [00:31<00:29,  5.96it/s]\u001b[A\n",
      " 51%|█████     | 178/351 [00:31<00:28,  6.04it/s]\u001b[A\n",
      " 51%|█████     | 179/351 [00:31<00:28,  5.97it/s]\u001b[A\n",
      " 51%|█████▏    | 180/351 [00:31<00:28,  5.98it/s]\u001b[A\n",
      " 52%|█████▏    | 181/351 [00:31<00:28,  5.95it/s]\u001b[A\n",
      " 52%|█████▏    | 182/351 [00:31<00:27,  6.11it/s]\u001b[A\n",
      " 52%|█████▏    | 183/351 [00:32<00:27,  6.18it/s]\u001b[A\n",
      " 52%|█████▏    | 184/351 [00:32<00:27,  6.18it/s]\u001b[A\n",
      " 53%|█████▎    | 185/351 [00:32<00:27,  6.14it/s]\u001b[A\n",
      " 53%|█████▎    | 186/351 [00:32<00:27,  5.93it/s]\u001b[A\n",
      " 53%|█████▎    | 187/351 [00:32<00:27,  5.98it/s]\u001b[A\n",
      " 54%|█████▎    | 188/351 [00:32<00:27,  6.00it/s]\u001b[A\n",
      " 54%|█████▍    | 189/351 [00:33<00:26,  6.01it/s]\u001b[A\n",
      " 54%|█████▍    | 190/351 [00:33<00:27,  5.94it/s]\u001b[A\n",
      " 54%|█████▍    | 191/351 [00:33<00:27,  5.76it/s]\u001b[A\n",
      " 55%|█████▍    | 192/351 [00:33<00:27,  5.68it/s]\u001b[A\n",
      " 55%|█████▍    | 193/351 [00:33<00:28,  5.54it/s]\u001b[A\n",
      " 55%|█████▌    | 194/351 [00:34<00:29,  5.30it/s]\u001b[A\n",
      " 56%|█████▌    | 195/351 [00:34<00:30,  5.04it/s]\u001b[A\n",
      " 56%|█████▌    | 196/351 [00:34<00:37,  4.18it/s]\u001b[A\n",
      " 56%|█████▌    | 197/351 [00:34<00:36,  4.21it/s]\u001b[A\n",
      " 56%|█████▋    | 198/351 [00:35<00:36,  4.15it/s]\u001b[A\n",
      " 57%|█████▋    | 199/351 [00:35<00:36,  4.18it/s]\u001b[A\n",
      " 57%|█████▋    | 200/351 [00:35<00:40,  3.74it/s]\u001b[A\n",
      " 57%|█████▋    | 201/351 [00:35<00:38,  3.89it/s]\u001b[A\n",
      " 58%|█████▊    | 202/351 [00:36<00:35,  4.16it/s]\u001b[A\n",
      " 58%|█████▊    | 203/351 [00:36<00:33,  4.38it/s]\u001b[A\n",
      " 58%|█████▊    | 204/351 [00:36<00:33,  4.44it/s]\u001b[A\n",
      " 58%|█████▊    | 205/351 [00:36<00:32,  4.52it/s]\u001b[A\n",
      " 59%|█████▊    | 206/351 [00:36<00:30,  4.80it/s]\u001b[A\n",
      " 59%|█████▉    | 207/351 [00:37<00:31,  4.52it/s]\u001b[A\n",
      " 59%|█████▉    | 208/351 [00:37<00:32,  4.45it/s]\u001b[A\n",
      " 60%|█████▉    | 209/351 [00:37<00:31,  4.46it/s]\u001b[A\n",
      " 60%|█████▉    | 210/351 [00:37<00:30,  4.64it/s]\u001b[A\n",
      " 60%|██████    | 211/351 [00:37<00:29,  4.82it/s]\u001b[A\n",
      " 60%|██████    | 212/351 [00:38<00:29,  4.70it/s]\u001b[A\n",
      " 61%|██████    | 213/351 [00:38<00:29,  4.68it/s]\u001b[A\n",
      " 61%|██████    | 214/351 [00:38<00:29,  4.62it/s]\u001b[A\n",
      " 61%|██████▏   | 215/351 [00:38<00:28,  4.83it/s]\u001b[A\n",
      " 62%|██████▏   | 216/351 [00:39<00:27,  4.97it/s]\u001b[A\n",
      " 62%|██████▏   | 217/351 [00:39<00:26,  5.14it/s]\u001b[A\n",
      " 62%|██████▏   | 218/351 [00:39<00:25,  5.12it/s]\u001b[A\n",
      " 62%|██████▏   | 219/351 [00:39<00:25,  5.27it/s]\u001b[A\n",
      " 63%|██████▎   | 220/351 [00:39<00:24,  5.27it/s]\u001b[A\n",
      " 63%|██████▎   | 221/351 [00:39<00:23,  5.60it/s]\u001b[A\n",
      " 63%|██████▎   | 222/351 [00:40<00:22,  5.79it/s]\u001b[A\n",
      " 64%|██████▎   | 223/351 [00:40<00:23,  5.49it/s]\u001b[A\n",
      " 64%|██████▍   | 224/351 [00:40<00:23,  5.47it/s]\u001b[A\n",
      " 64%|██████▍   | 225/351 [00:40<00:21,  5.78it/s]\u001b[A\n",
      " 64%|██████▍   | 226/351 [00:40<00:20,  6.09it/s]\u001b[A\n",
      " 65%|██████▍   | 227/351 [00:40<00:20,  6.16it/s]\u001b[A\n",
      " 65%|██████▍   | 228/351 [00:41<00:19,  6.40it/s]\u001b[A\n",
      " 65%|██████▌   | 229/351 [00:41<00:18,  6.57it/s]\u001b[A\n",
      " 66%|██████▌   | 230/351 [00:41<00:18,  6.53it/s]\u001b[A\n",
      " 66%|██████▌   | 231/351 [00:41<00:18,  6.43it/s]\u001b[A\n",
      " 66%|██████▌   | 232/351 [00:41<00:18,  6.46it/s]\u001b[A\n",
      " 66%|██████▋   | 233/351 [00:41<00:19,  6.09it/s]\u001b[A\n",
      " 67%|██████▋   | 234/351 [00:42<00:19,  5.91it/s]\u001b[A\n",
      " 67%|██████▋   | 235/351 [00:42<00:21,  5.50it/s]\u001b[A\n",
      " 67%|██████▋   | 236/351 [00:42<00:19,  5.89it/s]\u001b[A\n",
      " 68%|██████▊   | 237/351 [00:42<00:18,  6.09it/s]\u001b[A\n",
      " 68%|██████▊   | 238/351 [00:42<00:18,  6.16it/s]\u001b[A\n",
      " 68%|██████▊   | 239/351 [00:42<00:18,  6.10it/s]\u001b[A\n",
      " 68%|██████▊   | 240/351 [00:43<00:17,  6.35it/s]\u001b[A\n",
      " 69%|██████▊   | 241/351 [00:43<00:16,  6.57it/s]\u001b[A\n",
      " 69%|██████▉   | 242/351 [00:43<00:17,  6.39it/s]\u001b[A\n",
      " 69%|██████▉   | 243/351 [00:43<00:17,  6.09it/s]\u001b[A\n",
      " 70%|██████▉   | 244/351 [00:43<00:18,  5.83it/s]\u001b[A\n",
      " 70%|██████▉   | 245/351 [00:43<00:19,  5.53it/s]\u001b[A\n",
      " 70%|███████   | 246/351 [00:44<00:19,  5.52it/s]\u001b[A\n",
      " 70%|███████   | 247/351 [00:44<00:19,  5.33it/s]\u001b[A\n",
      " 71%|███████   | 248/351 [00:44<00:19,  5.21it/s]\u001b[A\n",
      " 71%|███████   | 249/351 [00:44<00:19,  5.18it/s]\u001b[A\n",
      " 71%|███████   | 250/351 [00:44<00:19,  5.15it/s]\u001b[A\n",
      " 72%|███████▏  | 251/351 [00:45<00:19,  5.02it/s]\u001b[A\n",
      " 72%|███████▏  | 252/351 [00:45<00:18,  5.24it/s]\u001b[A\n",
      " 72%|███████▏  | 253/351 [00:45<00:18,  5.43it/s]\u001b[A\n",
      " 72%|███████▏  | 254/351 [00:45<00:18,  5.26it/s]\u001b[A\n",
      " 73%|███████▎  | 255/351 [00:45<00:19,  4.91it/s]\u001b[A\n",
      " 73%|███████▎  | 256/351 [00:46<00:18,  5.22it/s]\u001b[A\n",
      " 73%|███████▎  | 257/351 [00:46<00:18,  5.18it/s]\u001b[A\n",
      " 74%|███████▎  | 258/351 [00:46<00:18,  5.15it/s]\u001b[A\n",
      " 74%|███████▍  | 259/351 [00:46<00:17,  5.28it/s]\u001b[A\n",
      " 74%|███████▍  | 260/351 [00:46<00:16,  5.57it/s]\u001b[A\n",
      " 74%|███████▍  | 261/351 [00:46<00:16,  5.51it/s]\u001b[A\n",
      " 75%|███████▍  | 262/351 [00:47<00:17,  5.19it/s]\u001b[A\n",
      " 75%|███████▍  | 263/351 [00:47<00:16,  5.19it/s]\u001b[A\n",
      " 75%|███████▌  | 264/351 [00:47<00:16,  5.24it/s]\u001b[A\n",
      " 75%|███████▌  | 265/351 [00:47<00:16,  5.25it/s]\u001b[A\n",
      " 76%|███████▌  | 266/351 [00:47<00:15,  5.35it/s]\u001b[A\n",
      " 76%|███████▌  | 267/351 [00:48<00:15,  5.42it/s]\u001b[A\n",
      " 76%|███████▋  | 268/351 [00:48<00:14,  5.55it/s]\u001b[A\n",
      " 77%|███████▋  | 269/351 [00:48<00:14,  5.56it/s]\u001b[A\n",
      " 77%|███████▋  | 270/351 [00:48<00:14,  5.47it/s]\u001b[A\n",
      " 77%|███████▋  | 271/351 [00:48<00:15,  5.31it/s]\u001b[A\n",
      " 77%|███████▋  | 272/351 [00:48<00:14,  5.39it/s]\u001b[A\n",
      " 78%|███████▊  | 273/351 [00:49<00:14,  5.44it/s]\u001b[A\n",
      " 78%|███████▊  | 274/351 [00:49<00:13,  5.54it/s]\u001b[A\n",
      " 78%|███████▊  | 275/351 [00:49<00:13,  5.56it/s]\u001b[A\n",
      " 79%|███████▊  | 276/351 [00:49<00:13,  5.58it/s]\u001b[A\n",
      " 79%|███████▉  | 277/351 [00:49<00:12,  5.83it/s]\u001b[A\n",
      " 79%|███████▉  | 278/351 [00:50<00:12,  5.88it/s]\u001b[A\n",
      " 79%|███████▉  | 279/351 [00:50<00:12,  5.77it/s]\u001b[A\n",
      " 80%|███████▉  | 280/351 [00:50<00:12,  5.81it/s]\u001b[A\n",
      " 80%|████████  | 281/351 [00:50<00:12,  5.80it/s]\u001b[A\n",
      " 80%|████████  | 282/351 [00:50<00:11,  5.76it/s]\u001b[A\n",
      " 81%|████████  | 283/351 [00:50<00:11,  5.81it/s]\u001b[A\n",
      " 81%|████████  | 284/351 [00:51<00:11,  5.91it/s]\u001b[A\n",
      " 81%|████████  | 285/351 [00:51<00:10,  6.21it/s]\u001b[A\n",
      " 81%|████████▏ | 286/351 [00:51<00:10,  6.42it/s]\u001b[A\n",
      " 82%|████████▏ | 287/351 [00:51<00:09,  6.51it/s]\u001b[A\n",
      " 82%|████████▏ | 288/351 [00:51<00:09,  6.65it/s]\u001b[A\n",
      " 82%|████████▏ | 289/351 [00:51<00:09,  6.66it/s]\u001b[A\n",
      " 83%|████████▎ | 290/351 [00:51<00:09,  6.68it/s]\u001b[A\n",
      " 83%|████████▎ | 291/351 [00:52<00:09,  6.48it/s]\u001b[A\n",
      " 83%|████████▎ | 292/351 [00:52<00:08,  6.62it/s]\u001b[A\n",
      " 83%|████████▎ | 293/351 [00:52<00:08,  6.62it/s]\u001b[A\n",
      " 84%|████████▍ | 294/351 [00:52<00:08,  6.51it/s]\u001b[A\n",
      " 84%|████████▍ | 295/351 [00:52<00:08,  6.38it/s]\u001b[A\n",
      " 84%|████████▍ | 296/351 [00:52<00:08,  6.27it/s]\u001b[A\n",
      " 85%|████████▍ | 297/351 [00:53<00:08,  6.39it/s]\u001b[A\n",
      " 85%|████████▍ | 298/351 [00:53<00:08,  6.50it/s]\u001b[A\n",
      " 85%|████████▌ | 299/351 [00:53<00:07,  6.55it/s]\u001b[A\n",
      " 85%|████████▌ | 300/351 [00:53<00:07,  6.50it/s]\u001b[A\n",
      " 86%|████████▌ | 301/351 [00:53<00:07,  6.64it/s]\u001b[A\n",
      " 86%|████████▌ | 302/351 [00:53<00:07,  6.74it/s]\u001b[A\n",
      " 86%|████████▋ | 303/351 [00:53<00:07,  6.83it/s]\u001b[A\n",
      " 87%|████████▋ | 304/351 [00:54<00:06,  6.81it/s]\u001b[A\n",
      " 87%|████████▋ | 305/351 [00:54<00:06,  6.77it/s]\u001b[A\n",
      " 87%|████████▋ | 306/351 [00:54<00:06,  6.89it/s]\u001b[A\n",
      " 87%|████████▋ | 307/351 [00:54<00:06,  6.90it/s]\u001b[A\n",
      " 88%|████████▊ | 308/351 [00:54<00:06,  6.91it/s]\u001b[A\n",
      " 88%|████████▊ | 309/351 [00:54<00:06,  6.96it/s]\u001b[A\n"
     ]
    },
    {
     "name": "stderr",
     "output_type": "stream",
     "text": [
      " 88%|████████▊ | 310/351 [00:54<00:05,  6.86it/s]\u001b[A\n",
      " 89%|████████▊ | 311/351 [00:55<00:05,  6.86it/s]\u001b[A\n",
      " 89%|████████▉ | 312/351 [00:55<00:05,  6.90it/s]\u001b[A\n",
      " 89%|████████▉ | 313/351 [00:55<00:05,  6.68it/s]\u001b[A\n",
      " 89%|████████▉ | 314/351 [00:55<00:05,  6.57it/s]\u001b[A\n",
      " 90%|████████▉ | 315/351 [00:55<00:05,  6.63it/s]\u001b[A\n",
      " 90%|█████████ | 316/351 [00:55<00:05,  6.73it/s]\u001b[A\n",
      " 90%|█████████ | 317/351 [00:55<00:05,  6.75it/s]\u001b[A\n",
      " 91%|█████████ | 318/351 [00:56<00:04,  6.71it/s]\u001b[A\n",
      " 91%|█████████ | 319/351 [00:56<00:04,  6.60it/s]\u001b[A\n",
      " 91%|█████████ | 320/351 [00:56<00:04,  6.27it/s]\u001b[A\n",
      " 91%|█████████▏| 321/351 [00:56<00:04,  6.17it/s]\u001b[A\n",
      " 92%|█████████▏| 322/351 [00:56<00:04,  6.21it/s]\u001b[A\n",
      " 92%|█████████▏| 323/351 [00:56<00:04,  6.42it/s]\u001b[A\n",
      " 92%|█████████▏| 324/351 [00:57<00:04,  6.37it/s]\u001b[A\n",
      " 93%|█████████▎| 325/351 [00:57<00:04,  6.42it/s]\u001b[A\n",
      " 93%|█████████▎| 326/351 [00:57<00:03,  6.60it/s]\u001b[A\n",
      " 93%|█████████▎| 327/351 [00:57<00:03,  6.44it/s]\u001b[A\n",
      " 93%|█████████▎| 328/351 [00:57<00:03,  6.23it/s]\u001b[A\n",
      " 94%|█████████▎| 329/351 [00:57<00:03,  6.20it/s]\u001b[A\n",
      " 94%|█████████▍| 330/351 [00:58<00:03,  6.08it/s]\u001b[A\n",
      " 94%|█████████▍| 331/351 [00:58<00:03,  5.93it/s]\u001b[A\n",
      " 95%|█████████▍| 332/351 [00:58<00:03,  5.86it/s]\u001b[A\n",
      " 95%|█████████▍| 333/351 [00:58<00:03,  5.87it/s]\u001b[A\n",
      " 95%|█████████▌| 334/351 [00:58<00:02,  5.84it/s]\u001b[A\n",
      " 95%|█████████▌| 335/351 [00:58<00:02,  5.73it/s]\u001b[A\n",
      " 96%|█████████▌| 336/351 [00:59<00:02,  5.84it/s]\u001b[A\n",
      " 96%|█████████▌| 337/351 [00:59<00:02,  5.95it/s]\u001b[A\n",
      " 96%|█████████▋| 338/351 [00:59<00:02,  5.90it/s]\u001b[A\n",
      " 97%|█████████▋| 339/351 [00:59<00:02,  5.83it/s]\u001b[A\n",
      " 97%|█████████▋| 340/351 [00:59<00:01,  5.79it/s]\u001b[A\n",
      " 97%|█████████▋| 341/351 [00:59<00:01,  5.88it/s]\u001b[A\n",
      " 97%|█████████▋| 342/351 [01:00<00:01,  5.96it/s]\u001b[A\n",
      " 98%|█████████▊| 343/351 [01:00<00:01,  6.17it/s]\u001b[A\n",
      " 98%|█████████▊| 344/351 [01:00<00:01,  5.90it/s]\u001b[A\n",
      " 98%|█████████▊| 345/351 [01:00<00:01,  5.56it/s]\u001b[A\n",
      " 99%|█████████▊| 346/351 [01:00<00:01,  4.97it/s]\u001b[A\n",
      " 99%|█████████▉| 347/351 [01:01<00:00,  5.05it/s]\u001b[A\n",
      " 99%|█████████▉| 348/351 [01:01<00:00,  5.23it/s]\u001b[A\n",
      " 99%|█████████▉| 349/351 [01:01<00:00,  5.29it/s]\u001b[A\n",
      "100%|█████████▉| 350/351 [01:01<00:00,  5.36it/s]\u001b[A\n",
      "100%|██████████| 351/351 [01:01<00:00,  5.68it/s]\u001b[A\n",
      "\n",
      "  0%|          | 0/351 [00:00<?, ?it/s]\u001b[A\n",
      "  0%|          | 1/351 [00:00<01:23,  4.21it/s]\u001b[A\n",
      "  1%|          | 2/351 [00:00<01:27,  4.01it/s]\u001b[A\n",
      "  1%|          | 3/351 [00:00<01:29,  3.90it/s]\u001b[A\n",
      "  1%|          | 4/351 [00:01<01:25,  4.05it/s]\u001b[A\n",
      "  1%|▏         | 5/351 [00:01<01:25,  4.05it/s]\u001b[A\n",
      "  2%|▏         | 6/351 [00:01<01:19,  4.34it/s]\u001b[A\n",
      "  2%|▏         | 7/351 [00:01<01:11,  4.80it/s]\u001b[A\n",
      "  2%|▏         | 8/351 [00:01<01:18,  4.35it/s]\u001b[A\n",
      "  3%|▎         | 9/351 [00:02<01:20,  4.24it/s]\u001b[A\n",
      "  3%|▎         | 10/351 [00:02<01:13,  4.62it/s]\u001b[A\n",
      "  3%|▎         | 11/351 [00:02<01:08,  4.94it/s]\u001b[A\n",
      "  3%|▎         | 12/351 [00:02<01:11,  4.76it/s]\u001b[A\n",
      "  4%|▎         | 13/351 [00:02<01:05,  5.13it/s]\u001b[A\n",
      "  4%|▍         | 14/351 [00:03<01:02,  5.36it/s]\u001b[A\n",
      "  4%|▍         | 15/351 [00:03<01:02,  5.42it/s]\u001b[A\n",
      "  5%|▍         | 16/351 [00:03<00:58,  5.77it/s]\u001b[A\n",
      "  5%|▍         | 17/351 [00:03<00:57,  5.76it/s]\u001b[A\n",
      "  5%|▌         | 18/351 [00:03<00:57,  5.77it/s]\u001b[A\n",
      "  5%|▌         | 19/351 [00:03<00:56,  5.90it/s]\u001b[A\n",
      "  6%|▌         | 20/351 [00:04<00:57,  5.73it/s]\u001b[A\n",
      "  6%|▌         | 21/351 [00:04<00:58,  5.60it/s]\u001b[A\n",
      "  6%|▋         | 22/351 [00:04<00:56,  5.86it/s]\u001b[A\n",
      "  7%|▋         | 23/351 [00:04<00:56,  5.80it/s]\u001b[A\n",
      "  7%|▋         | 24/351 [00:04<00:54,  6.01it/s]\u001b[A\n",
      "  7%|▋         | 25/351 [00:04<00:53,  6.08it/s]\u001b[A\n",
      "  7%|▋         | 26/351 [00:05<00:55,  5.90it/s]\u001b[A\n",
      "  8%|▊         | 27/351 [00:05<00:55,  5.88it/s]\u001b[A\n",
      "  8%|▊         | 28/351 [00:05<00:54,  5.90it/s]\u001b[A\n",
      "  8%|▊         | 29/351 [00:05<00:55,  5.83it/s]\u001b[A\n",
      "  9%|▊         | 30/351 [00:05<00:52,  6.08it/s]\u001b[A\n",
      "  9%|▉         | 31/351 [00:05<00:50,  6.40it/s]\u001b[A\n",
      "  9%|▉         | 32/351 [00:06<00:48,  6.61it/s]\u001b[A\n",
      "  9%|▉         | 33/351 [00:06<00:47,  6.72it/s]\u001b[A\n",
      " 10%|▉         | 34/351 [00:06<00:46,  6.79it/s]\u001b[A\n",
      " 10%|▉         | 35/351 [00:06<00:46,  6.85it/s]\u001b[A\n",
      " 10%|█         | 36/351 [00:06<00:49,  6.40it/s]\u001b[A\n",
      " 11%|█         | 37/351 [00:06<00:50,  6.26it/s]\u001b[A\n",
      " 11%|█         | 38/351 [00:06<00:49,  6.29it/s]\u001b[A\n",
      " 11%|█         | 39/351 [00:07<00:49,  6.33it/s]\u001b[A\n",
      " 11%|█▏        | 40/351 [00:07<00:47,  6.52it/s]\u001b[A\n",
      " 12%|█▏        | 41/351 [00:07<00:46,  6.63it/s]\u001b[A\n",
      " 12%|█▏        | 42/351 [00:07<00:46,  6.62it/s]\u001b[A\n",
      " 12%|█▏        | 43/351 [00:07<00:48,  6.37it/s]\u001b[A\n",
      " 13%|█▎        | 44/351 [00:07<00:50,  6.09it/s]\u001b[A\n",
      " 13%|█▎        | 45/351 [00:08<00:49,  6.14it/s]\u001b[A\n",
      " 13%|█▎        | 46/351 [00:08<00:47,  6.39it/s]\u001b[A\n",
      " 13%|█▎        | 47/351 [00:08<00:46,  6.53it/s]\u001b[A\n",
      " 14%|█▎        | 48/351 [00:08<00:46,  6.56it/s]\u001b[A\n",
      " 14%|█▍        | 49/351 [00:08<00:48,  6.28it/s]\u001b[A\n",
      " 14%|█▍        | 50/351 [00:08<00:47,  6.35it/s]\u001b[A\n",
      " 15%|█▍        | 51/351 [00:08<00:47,  6.34it/s]\u001b[A\n",
      " 15%|█▍        | 52/351 [00:09<00:46,  6.41it/s]\u001b[A\n",
      " 15%|█▌        | 53/351 [00:09<00:45,  6.50it/s]\u001b[A\n",
      " 15%|█▌        | 54/351 [00:09<00:45,  6.59it/s]\u001b[A\n",
      " 16%|█▌        | 55/351 [00:09<00:46,  6.39it/s]\u001b[A\n",
      " 16%|█▌        | 56/351 [00:09<00:47,  6.23it/s]\u001b[A\n",
      " 16%|█▌        | 57/351 [00:10<00:58,  5.04it/s]\u001b[A\n",
      " 17%|█▋        | 58/351 [00:10<01:06,  4.39it/s]\u001b[A\n",
      " 17%|█▋        | 59/351 [00:10<01:15,  3.86it/s]\u001b[A\n",
      " 17%|█▋        | 60/351 [00:11<01:27,  3.33it/s]\u001b[A\n",
      " 17%|█▋        | 61/351 [00:11<01:22,  3.52it/s]\u001b[A\n",
      " 18%|█▊        | 62/351 [00:11<01:27,  3.28it/s]\u001b[A\n",
      " 18%|█▊        | 63/351 [00:11<01:29,  3.22it/s]\u001b[A\n",
      " 18%|█▊        | 64/351 [00:12<01:25,  3.36it/s]\u001b[A\n",
      " 19%|█▊        | 65/351 [00:12<01:22,  3.48it/s]\u001b[A\n",
      " 19%|█▉        | 66/351 [00:12<01:22,  3.47it/s]\u001b[A\n",
      " 19%|█▉        | 67/351 [00:13<01:22,  3.43it/s]\u001b[A\n",
      " 19%|█▉        | 68/351 [00:13<01:19,  3.57it/s]\u001b[A\n",
      " 20%|█▉        | 69/351 [00:13<01:17,  3.63it/s]\u001b[A\n",
      " 20%|█▉        | 70/351 [00:13<01:07,  4.18it/s]\u001b[A\n",
      " 20%|██        | 71/351 [00:13<01:02,  4.51it/s]\u001b[A\n",
      " 21%|██        | 72/351 [00:14<01:10,  3.96it/s]\u001b[A\n",
      " 21%|██        | 73/351 [00:14<01:06,  4.20it/s]\u001b[A\n",
      " 21%|██        | 74/351 [00:14<01:00,  4.61it/s]\u001b[A\n",
      " 21%|██▏       | 75/351 [00:14<00:56,  4.87it/s]\u001b[A\n",
      " 22%|██▏       | 76/351 [00:15<00:53,  5.18it/s]\u001b[A\n",
      " 22%|██▏       | 77/351 [00:15<00:50,  5.47it/s]\u001b[A\n",
      " 22%|██▏       | 78/351 [00:15<00:48,  5.68it/s]\u001b[A\n",
      " 23%|██▎       | 79/351 [00:15<00:46,  5.80it/s]\u001b[A\n",
      " 23%|██▎       | 80/351 [00:15<00:47,  5.72it/s]\u001b[A\n",
      " 23%|██▎       | 81/351 [00:15<00:46,  5.79it/s]\u001b[A\n",
      " 23%|██▎       | 82/351 [00:16<00:50,  5.28it/s]\u001b[A\n",
      " 24%|██▎       | 83/351 [00:16<00:50,  5.33it/s]\u001b[A\n",
      " 24%|██▍       | 84/351 [00:16<00:50,  5.26it/s]\u001b[A\n",
      " 24%|██▍       | 85/351 [00:16<00:49,  5.41it/s]\u001b[A\n",
      " 25%|██▍       | 86/351 [00:16<00:49,  5.39it/s]\u001b[A\n",
      " 25%|██▍       | 87/351 [00:16<00:49,  5.35it/s]\u001b[A\n",
      " 25%|██▌       | 88/351 [00:17<00:48,  5.43it/s]\u001b[A\n",
      " 25%|██▌       | 89/351 [00:17<00:47,  5.55it/s]\u001b[A\n",
      " 26%|██▌       | 90/351 [00:17<00:49,  5.26it/s]\u001b[A\n",
      " 26%|██▌       | 91/351 [00:17<00:47,  5.49it/s]\u001b[A\n",
      " 26%|██▌       | 92/351 [00:17<00:48,  5.31it/s]\u001b[A\n",
      " 26%|██▋       | 93/351 [00:18<00:48,  5.35it/s]\u001b[A\n",
      " 27%|██▋       | 94/351 [00:18<00:49,  5.24it/s]\u001b[A\n",
      " 27%|██▋       | 95/351 [00:18<00:48,  5.31it/s]\u001b[A\n",
      " 27%|██▋       | 96/351 [00:18<00:47,  5.32it/s]\u001b[A\n",
      " 28%|██▊       | 97/351 [00:18<00:47,  5.35it/s]\u001b[A\n",
      " 28%|██▊       | 98/351 [00:19<00:48,  5.21it/s]\u001b[A\n",
      " 28%|██▊       | 99/351 [00:19<00:48,  5.21it/s]\u001b[A\n",
      " 28%|██▊       | 100/351 [00:19<00:49,  5.08it/s]\u001b[A\n",
      " 29%|██▉       | 101/351 [00:19<00:48,  5.12it/s]\u001b[A\n",
      " 29%|██▉       | 102/351 [00:19<00:49,  5.05it/s]\u001b[A\n",
      " 29%|██▉       | 103/351 [00:20<00:46,  5.29it/s]\u001b[A\n",
      " 30%|██▉       | 104/351 [00:20<00:45,  5.40it/s]\u001b[A\n",
      " 30%|██▉       | 105/351 [00:20<00:43,  5.66it/s]\u001b[A\n",
      " 30%|███       | 106/351 [00:20<00:45,  5.42it/s]\u001b[A\n",
      " 30%|███       | 107/351 [00:20<00:44,  5.45it/s]\u001b[A\n",
      " 31%|███       | 108/351 [00:20<00:42,  5.72it/s]\u001b[A\n",
      " 31%|███       | 109/351 [00:21<00:42,  5.66it/s]\u001b[A\n",
      " 31%|███▏      | 110/351 [00:21<00:43,  5.59it/s]\u001b[A\n",
      " 32%|███▏      | 111/351 [00:21<00:42,  5.60it/s]\u001b[A\n",
      " 32%|███▏      | 112/351 [00:21<00:43,  5.48it/s]\u001b[A\n",
      " 32%|███▏      | 113/351 [00:21<00:44,  5.29it/s]\u001b[A\n"
     ]
    },
    {
     "name": "stderr",
     "output_type": "stream",
     "text": [
      " 32%|███▏      | 114/351 [00:22<00:44,  5.30it/s]\u001b[A\n",
      " 33%|███▎      | 115/351 [00:22<00:45,  5.24it/s]\u001b[A\n",
      " 33%|███▎      | 116/351 [00:22<00:43,  5.36it/s]\u001b[A\n",
      " 33%|███▎      | 117/351 [00:22<00:42,  5.56it/s]\u001b[A\n",
      " 34%|███▎      | 118/351 [00:22<00:40,  5.71it/s]\u001b[A\n",
      " 34%|███▍      | 119/351 [00:22<00:39,  5.80it/s]\u001b[A\n",
      " 34%|███▍      | 120/351 [00:23<00:40,  5.77it/s]\u001b[A\n",
      " 34%|███▍      | 121/351 [00:23<00:42,  5.45it/s]\u001b[A\n",
      " 35%|███▍      | 122/351 [00:23<00:41,  5.51it/s]\u001b[A\n",
      " 35%|███▌      | 123/351 [00:23<00:40,  5.60it/s]\u001b[A\n",
      " 35%|███▌      | 124/351 [00:23<00:40,  5.62it/s]\u001b[A\n",
      " 36%|███▌      | 125/351 [00:23<00:40,  5.55it/s]\u001b[A\n",
      " 36%|███▌      | 126/351 [00:24<00:41,  5.47it/s]\u001b[A\n",
      " 36%|███▌      | 127/351 [00:24<00:40,  5.51it/s]\u001b[A\n",
      " 36%|███▋      | 128/351 [00:24<00:40,  5.49it/s]\u001b[A\n",
      " 37%|███▋      | 129/351 [00:24<00:40,  5.55it/s]\u001b[A\n",
      " 37%|███▋      | 130/351 [00:24<00:38,  5.78it/s]\u001b[A\n",
      " 37%|███▋      | 131/351 [00:25<00:37,  5.92it/s]\u001b[A\n",
      " 38%|███▊      | 132/351 [00:25<00:36,  6.05it/s]\u001b[A\n",
      " 38%|███▊      | 133/351 [00:25<00:35,  6.19it/s]\u001b[A\n",
      " 38%|███▊      | 134/351 [00:25<00:34,  6.25it/s]\u001b[A\n",
      " 38%|███▊      | 135/351 [00:25<00:34,  6.27it/s]\u001b[A\n",
      " 39%|███▊      | 136/351 [00:25<00:34,  6.26it/s]\u001b[A\n",
      " 39%|███▉      | 137/351 [00:25<00:33,  6.30it/s]\u001b[A\n",
      " 39%|███▉      | 138/351 [00:26<00:33,  6.32it/s]\u001b[A\n",
      " 40%|███▉      | 139/351 [00:26<00:33,  6.38it/s]\u001b[A\n",
      " 40%|███▉      | 140/351 [00:26<00:33,  6.39it/s]\u001b[A\n",
      " 40%|████      | 141/351 [00:26<00:33,  6.27it/s]\u001b[A\n",
      " 40%|████      | 142/351 [00:26<00:33,  6.32it/s]\u001b[A\n",
      " 41%|████      | 143/351 [00:26<00:32,  6.38it/s]\u001b[A\n",
      " 41%|████      | 144/351 [00:27<00:32,  6.38it/s]\u001b[A\n",
      " 41%|████▏     | 145/351 [00:27<00:32,  6.39it/s]\u001b[A\n",
      " 42%|████▏     | 146/351 [00:27<00:32,  6.40it/s]\u001b[A\n",
      " 42%|████▏     | 147/351 [00:27<00:31,  6.39it/s]\u001b[A\n",
      " 42%|████▏     | 148/351 [00:27<00:31,  6.36it/s]\u001b[A\n",
      " 42%|████▏     | 149/351 [00:27<00:31,  6.41it/s]\u001b[A\n",
      " 43%|████▎     | 150/351 [00:28<00:31,  6.45it/s]\u001b[A\n",
      " 43%|████▎     | 151/351 [00:28<00:30,  6.49it/s]\u001b[A\n",
      " 43%|████▎     | 152/351 [00:28<00:30,  6.48it/s]\u001b[A\n",
      " 44%|████▎     | 153/351 [00:28<00:30,  6.50it/s]\u001b[A\n",
      " 44%|████▍     | 154/351 [00:28<00:32,  6.06it/s]\u001b[A\n",
      " 44%|████▍     | 155/351 [00:28<00:32,  5.99it/s]\u001b[A\n",
      " 44%|████▍     | 156/351 [00:28<00:31,  6.12it/s]\u001b[A\n",
      " 45%|████▍     | 157/351 [00:29<00:31,  6.14it/s]\u001b[A\n",
      " 45%|████▌     | 158/351 [00:29<00:32,  5.92it/s]\u001b[A\n",
      " 45%|████▌     | 159/351 [00:29<00:31,  6.01it/s]\u001b[A\n",
      " 46%|████▌     | 160/351 [00:29<00:33,  5.74it/s]\u001b[A\n",
      " 46%|████▌     | 161/351 [00:29<00:33,  5.74it/s]\u001b[A\n",
      " 46%|████▌     | 162/351 [00:30<00:32,  5.79it/s]\u001b[A\n",
      " 46%|████▋     | 163/351 [00:30<00:31,  5.94it/s]\u001b[A\n",
      " 47%|████▋     | 164/351 [00:30<00:31,  5.91it/s]\u001b[A\n",
      " 47%|████▋     | 165/351 [00:30<00:31,  5.88it/s]\u001b[A\n",
      " 47%|████▋     | 166/351 [00:30<00:31,  5.82it/s]\u001b[A\n",
      " 48%|████▊     | 167/351 [00:30<00:31,  5.84it/s]\u001b[A\n",
      " 48%|████▊     | 168/351 [00:31<00:32,  5.66it/s]\u001b[A\n",
      " 48%|████▊     | 169/351 [00:31<00:33,  5.50it/s]\u001b[A\n",
      " 48%|████▊     | 170/351 [00:31<00:32,  5.64it/s]\u001b[A\n",
      " 49%|████▊     | 171/351 [00:31<00:31,  5.74it/s]\u001b[A\n",
      " 49%|████▉     | 172/351 [00:31<00:31,  5.70it/s]\u001b[A\n",
      " 49%|████▉     | 173/351 [00:31<00:32,  5.52it/s]\u001b[A\n",
      " 50%|████▉     | 174/351 [00:32<00:31,  5.70it/s]\u001b[A\n",
      " 50%|████▉     | 175/351 [00:32<00:29,  5.89it/s]\u001b[A\n",
      " 50%|█████     | 176/351 [00:32<00:29,  5.99it/s]\u001b[A\n",
      " 50%|█████     | 177/351 [00:32<00:30,  5.72it/s]\u001b[A\n",
      " 51%|█████     | 178/351 [00:32<00:29,  5.87it/s]\u001b[A\n",
      " 51%|█████     | 179/351 [00:32<00:28,  6.03it/s]\u001b[A\n",
      " 51%|█████▏    | 180/351 [00:33<00:27,  6.11it/s]\u001b[A\n",
      " 52%|█████▏    | 181/351 [00:33<00:27,  6.18it/s]\u001b[A\n",
      " 52%|█████▏    | 182/351 [00:33<00:29,  5.81it/s]\u001b[A\n",
      " 52%|█████▏    | 183/351 [00:33<00:29,  5.67it/s]\u001b[A\n",
      " 52%|█████▏    | 184/351 [00:33<00:29,  5.67it/s]\u001b[A\n",
      " 53%|█████▎    | 185/351 [00:34<00:29,  5.61it/s]\u001b[A\n",
      " 53%|█████▎    | 186/351 [00:34<00:28,  5.84it/s]\u001b[A\n",
      " 53%|█████▎    | 187/351 [00:34<00:27,  6.00it/s]\u001b[A\n",
      " 54%|█████▎    | 188/351 [00:34<00:27,  5.95it/s]\u001b[A\n",
      " 54%|█████▍    | 189/351 [00:34<00:28,  5.72it/s]\u001b[A\n",
      " 54%|█████▍    | 190/351 [00:34<00:27,  5.79it/s]\u001b[A\n",
      " 54%|█████▍    | 191/351 [00:35<00:27,  5.80it/s]\u001b[A\n",
      " 55%|█████▍    | 192/351 [00:35<00:26,  5.97it/s]\u001b[A\n",
      " 55%|█████▍    | 193/351 [00:35<00:26,  6.05it/s]\u001b[A\n",
      " 55%|█████▌    | 194/351 [00:35<00:27,  5.76it/s]\u001b[A\n",
      " 56%|█████▌    | 195/351 [00:35<00:28,  5.46it/s]\u001b[A\n",
      " 56%|█████▌    | 196/351 [00:35<00:27,  5.62it/s]\u001b[A\n",
      " 56%|█████▌    | 197/351 [00:36<00:27,  5.64it/s]\u001b[A\n",
      " 56%|█████▋    | 198/351 [00:36<00:28,  5.36it/s]\u001b[A\n",
      " 57%|█████▋    | 199/351 [00:36<00:27,  5.52it/s]\u001b[A\n",
      " 57%|█████▋    | 200/351 [00:36<00:26,  5.65it/s]\u001b[A\n",
      " 57%|█████▋    | 201/351 [00:36<00:27,  5.36it/s]\u001b[A\n",
      " 58%|█████▊    | 202/351 [00:37<00:28,  5.23it/s]\u001b[A\n",
      " 58%|█████▊    | 203/351 [00:37<00:27,  5.45it/s]\u001b[A\n",
      " 58%|█████▊    | 204/351 [00:37<00:26,  5.55it/s]\u001b[A\n",
      " 58%|█████▊    | 205/351 [00:37<00:26,  5.46it/s]\u001b[A\n",
      " 59%|█████▊    | 206/351 [00:37<00:29,  4.99it/s]\u001b[A\n",
      " 59%|█████▉    | 207/351 [00:38<00:29,  4.84it/s]\u001b[A\n",
      " 59%|█████▉    | 208/351 [00:38<00:28,  4.98it/s]\u001b[A\n",
      " 60%|█████▉    | 209/351 [00:38<00:27,  5.13it/s]\u001b[A\n",
      " 60%|█████▉    | 210/351 [00:38<00:26,  5.27it/s]\u001b[A\n",
      " 60%|██████    | 211/351 [00:38<00:26,  5.33it/s]\u001b[A\n",
      " 60%|██████    | 212/351 [00:38<00:26,  5.18it/s]\u001b[A\n",
      " 61%|██████    | 213/351 [00:39<00:26,  5.29it/s]\u001b[A\n",
      " 61%|██████    | 214/351 [00:39<00:24,  5.51it/s]\u001b[A\n",
      " 61%|██████▏   | 215/351 [00:39<00:23,  5.78it/s]\u001b[A\n",
      " 62%|██████▏   | 216/351 [00:39<00:23,  5.85it/s]\u001b[A\n",
      " 62%|██████▏   | 217/351 [00:39<00:22,  5.84it/s]\u001b[A\n",
      " 62%|██████▏   | 218/351 [00:39<00:23,  5.75it/s]\u001b[A\n",
      " 62%|██████▏   | 219/351 [00:40<00:23,  5.72it/s]\u001b[A\n",
      " 63%|██████▎   | 220/351 [00:40<00:22,  5.86it/s]\u001b[A\n",
      " 63%|██████▎   | 221/351 [00:40<00:25,  5.16it/s]\u001b[A\n",
      " 63%|██████▎   | 222/351 [00:40<00:24,  5.30it/s]\u001b[A\n",
      " 64%|██████▎   | 223/351 [00:40<00:23,  5.41it/s]\u001b[A\n",
      " 64%|██████▍   | 224/351 [00:41<00:23,  5.49it/s]\u001b[A\n",
      " 64%|██████▍   | 225/351 [00:41<00:24,  5.07it/s]\u001b[A\n",
      " 64%|██████▍   | 226/351 [00:41<00:23,  5.30it/s]\u001b[A\n",
      " 65%|██████▍   | 227/351 [00:41<00:22,  5.58it/s]\u001b[A\n",
      " 65%|██████▍   | 228/351 [00:41<00:21,  5.77it/s]\u001b[A\n",
      " 65%|██████▌   | 229/351 [00:41<00:20,  5.84it/s]\u001b[A\n",
      " 66%|██████▌   | 230/351 [00:42<00:23,  5.07it/s]\u001b[A\n",
      " 66%|██████▌   | 231/351 [00:42<00:23,  5.10it/s]\u001b[A\n",
      " 66%|██████▌   | 232/351 [00:42<00:22,  5.32it/s]\u001b[A\n",
      " 66%|██████▋   | 233/351 [00:42<00:21,  5.59it/s]\u001b[A\n",
      " 67%|██████▋   | 234/351 [00:42<00:20,  5.65it/s]\u001b[A\n",
      " 67%|██████▋   | 235/351 [00:43<00:20,  5.76it/s]\u001b[A\n",
      " 67%|██████▋   | 236/351 [00:43<00:19,  5.77it/s]\u001b[A\n",
      " 68%|██████▊   | 237/351 [00:43<00:19,  5.77it/s]\u001b[A\n",
      " 68%|██████▊   | 238/351 [00:43<00:19,  5.89it/s]\u001b[A\n",
      " 68%|██████▊   | 239/351 [00:43<00:18,  5.98it/s]\u001b[A\n",
      " 68%|██████▊   | 240/351 [00:43<00:19,  5.63it/s]\u001b[A\n",
      " 69%|██████▊   | 241/351 [00:44<00:19,  5.63it/s]\u001b[A\n",
      " 69%|██████▉   | 242/351 [00:44<00:19,  5.51it/s]\u001b[A\n",
      " 69%|██████▉   | 243/351 [00:44<00:19,  5.52it/s]\u001b[A\n",
      " 70%|██████▉   | 244/351 [00:44<00:18,  5.69it/s]\u001b[A\n",
      " 70%|██████▉   | 245/351 [00:44<00:18,  5.80it/s]\u001b[A\n",
      " 70%|███████   | 246/351 [00:45<00:20,  5.24it/s]\u001b[A\n",
      " 70%|███████   | 247/351 [00:45<00:19,  5.37it/s]\u001b[A\n",
      " 71%|███████   | 248/351 [00:45<00:18,  5.50it/s]\u001b[A\n",
      " 71%|███████   | 249/351 [00:45<00:18,  5.50it/s]\u001b[A\n",
      " 71%|███████   | 250/351 [00:45<00:18,  5.58it/s]\u001b[A\n",
      " 72%|███████▏  | 251/351 [00:45<00:17,  5.74it/s]\u001b[A\n",
      " 72%|███████▏  | 252/351 [00:46<00:16,  5.88it/s]\u001b[A\n",
      " 72%|███████▏  | 253/351 [00:46<00:16,  5.79it/s]\u001b[A\n",
      " 72%|███████▏  | 254/351 [00:46<00:16,  5.93it/s]\u001b[A\n",
      " 73%|███████▎  | 255/351 [00:46<00:15,  6.04it/s]\u001b[A\n",
      " 73%|███████▎  | 256/351 [00:46<00:15,  6.01it/s]\u001b[A\n",
      " 73%|███████▎  | 257/351 [00:46<00:15,  6.04it/s]\u001b[A\n",
      " 74%|███████▎  | 258/351 [00:47<00:15,  6.02it/s]\u001b[A\n",
      " 74%|███████▍  | 259/351 [00:47<00:15,  6.00it/s]\u001b[A\n",
      " 74%|███████▍  | 260/351 [00:47<00:15,  5.88it/s]\u001b[A\n",
      " 74%|███████▍  | 261/351 [00:47<00:15,  5.93it/s]\u001b[A\n",
      " 75%|███████▍  | 262/351 [00:47<00:15,  5.85it/s]\u001b[A\n",
      " 75%|███████▍  | 263/351 [00:47<00:16,  5.49it/s]\u001b[A\n",
      " 75%|███████▌  | 264/351 [00:48<00:16,  5.25it/s]\u001b[A\n",
      " 75%|███████▌  | 265/351 [00:48<00:17,  4.86it/s]\u001b[A\n",
      " 76%|███████▌  | 266/351 [00:48<00:18,  4.72it/s]\u001b[A\n",
      " 76%|███████▌  | 267/351 [00:48<00:17,  4.79it/s]\u001b[A\n"
     ]
    },
    {
     "name": "stderr",
     "output_type": "stream",
     "text": [
      " 76%|███████▋  | 268/351 [00:49<00:16,  4.93it/s]\u001b[A\n",
      " 77%|███████▋  | 269/351 [00:49<00:16,  5.10it/s]\u001b[A\n",
      " 77%|███████▋  | 270/351 [00:49<00:17,  4.72it/s]\u001b[A\n",
      " 77%|███████▋  | 271/351 [00:49<00:18,  4.31it/s]\u001b[A\n",
      " 77%|███████▋  | 272/351 [00:49<00:18,  4.28it/s]\u001b[A\n",
      " 78%|███████▊  | 273/351 [00:50<00:17,  4.39it/s]\u001b[A\n",
      " 78%|███████▊  | 274/351 [00:50<00:17,  4.47it/s]\u001b[A\n",
      " 78%|███████▊  | 275/351 [00:50<00:16,  4.50it/s]\u001b[A\n",
      " 79%|███████▊  | 276/351 [00:50<00:15,  4.70it/s]\u001b[A\n",
      " 79%|███████▉  | 277/351 [00:51<00:15,  4.85it/s]\u001b[A\n",
      " 79%|███████▉  | 278/351 [00:51<00:15,  4.85it/s]\u001b[A\n",
      " 79%|███████▉  | 279/351 [00:51<00:15,  4.70it/s]\u001b[A\n",
      " 80%|███████▉  | 280/351 [00:51<00:15,  4.72it/s]\u001b[A\n",
      " 80%|████████  | 281/351 [00:51<00:14,  4.77it/s]\u001b[A\n",
      " 80%|████████  | 282/351 [00:52<00:14,  4.92it/s]\u001b[A\n",
      " 81%|████████  | 283/351 [00:52<00:13,  4.89it/s]\u001b[A\n",
      " 81%|████████  | 284/351 [00:52<00:13,  5.04it/s]\u001b[A\n",
      " 81%|████████  | 285/351 [00:52<00:13,  4.89it/s]\u001b[A\n",
      " 81%|████████▏ | 286/351 [00:52<00:13,  4.89it/s]\u001b[A\n",
      " 82%|████████▏ | 287/351 [00:53<00:12,  5.01it/s]\u001b[A\n",
      " 82%|████████▏ | 288/351 [00:53<00:12,  4.91it/s]\u001b[A\n",
      " 82%|████████▏ | 289/351 [00:53<00:13,  4.70it/s]\u001b[A\n",
      " 83%|████████▎ | 290/351 [00:53<00:12,  4.80it/s]\u001b[A\n",
      " 83%|████████▎ | 291/351 [00:53<00:11,  5.03it/s]\u001b[A\n",
      " 83%|████████▎ | 292/351 [00:54<00:12,  4.81it/s]\u001b[A\n",
      " 83%|████████▎ | 293/351 [00:54<00:12,  4.80it/s]\u001b[A\n",
      " 84%|████████▍ | 294/351 [00:54<00:12,  4.55it/s]\u001b[A\n",
      " 84%|████████▍ | 295/351 [00:54<00:12,  4.65it/s]\u001b[A\n",
      " 84%|████████▍ | 296/351 [00:54<00:11,  4.98it/s]\u001b[A\n",
      " 85%|████████▍ | 297/351 [00:55<00:10,  5.26it/s]\u001b[A\n",
      " 85%|████████▍ | 298/351 [00:55<00:10,  5.27it/s]\u001b[A\n",
      " 85%|████████▌ | 299/351 [00:55<00:09,  5.28it/s]\u001b[A\n",
      " 85%|████████▌ | 300/351 [00:55<00:09,  5.36it/s]\u001b[A\n",
      " 86%|████████▌ | 301/351 [00:55<00:09,  5.48it/s]\u001b[A\n",
      " 86%|████████▌ | 302/351 [00:56<00:08,  5.58it/s]\u001b[A\n",
      " 86%|████████▋ | 303/351 [00:56<00:08,  5.53it/s]\u001b[A\n",
      " 87%|████████▋ | 304/351 [00:56<00:08,  5.49it/s]\u001b[A\n",
      " 87%|████████▋ | 305/351 [00:56<00:08,  5.54it/s]\u001b[A\n",
      " 87%|████████▋ | 306/351 [00:56<00:08,  5.51it/s]\u001b[A\n",
      " 87%|████████▋ | 307/351 [00:56<00:08,  5.02it/s]\u001b[A\n",
      " 88%|████████▊ | 308/351 [00:57<00:09,  4.65it/s]\u001b[A\n",
      " 88%|████████▊ | 309/351 [00:57<00:10,  4.11it/s]\u001b[A\n",
      " 88%|████████▊ | 310/351 [00:57<00:10,  3.83it/s]\u001b[A\n",
      " 89%|████████▊ | 311/351 [00:58<00:11,  3.54it/s]\u001b[A\n",
      " 89%|████████▉ | 312/351 [00:58<00:11,  3.44it/s]\u001b[A\n",
      " 89%|████████▉ | 313/351 [00:58<00:10,  3.58it/s]\u001b[A\n",
      " 89%|████████▉ | 314/351 [00:58<00:09,  3.70it/s]\u001b[A\n",
      " 90%|████████▉ | 315/351 [00:59<00:09,  3.82it/s]\u001b[A\n",
      " 90%|█████████ | 316/351 [00:59<00:09,  3.80it/s]\u001b[A\n",
      " 90%|█████████ | 317/351 [00:59<00:08,  3.90it/s]\u001b[A\n",
      " 91%|█████████ | 318/351 [00:59<00:08,  4.02it/s]\u001b[A\n",
      " 91%|█████████ | 319/351 [01:00<00:07,  4.22it/s]\u001b[A\n",
      " 91%|█████████ | 320/351 [01:00<00:06,  4.50it/s]\u001b[A\n",
      " 91%|█████████▏| 321/351 [01:00<00:06,  4.35it/s]\u001b[A\n",
      " 92%|█████████▏| 322/351 [01:00<00:06,  4.33it/s]\u001b[A\n",
      " 92%|█████████▏| 323/351 [01:01<00:06,  4.47it/s]\u001b[A\n",
      " 92%|█████████▏| 324/351 [01:01<00:06,  4.11it/s]\u001b[A\n",
      " 93%|█████████▎| 325/351 [01:01<00:06,  3.99it/s]\u001b[A\n",
      " 93%|█████████▎| 326/351 [01:01<00:06,  4.00it/s]\u001b[A\n",
      " 93%|█████████▎| 327/351 [01:02<00:05,  4.19it/s]\u001b[A\n",
      " 93%|█████████▎| 328/351 [01:02<00:05,  4.10it/s]\u001b[A\n",
      " 94%|█████████▎| 329/351 [01:02<00:05,  3.99it/s]\u001b[A\n",
      " 94%|█████████▍| 330/351 [01:02<00:05,  4.06it/s]\u001b[A\n",
      " 94%|█████████▍| 331/351 [01:03<00:04,  4.12it/s]\u001b[A\n",
      " 95%|█████████▍| 332/351 [01:03<00:04,  3.81it/s]\u001b[A\n",
      " 95%|█████████▍| 333/351 [01:03<00:04,  3.60it/s]\u001b[A\n",
      " 95%|█████████▌| 334/351 [01:03<00:04,  3.62it/s]\u001b[A\n",
      " 95%|█████████▌| 335/351 [01:04<00:04,  3.83it/s]\u001b[A\n",
      " 96%|█████████▌| 336/351 [01:04<00:03,  4.00it/s]\u001b[A\n",
      " 96%|█████████▌| 337/351 [01:04<00:03,  4.01it/s]\u001b[A\n",
      " 96%|█████████▋| 338/351 [01:04<00:02,  4.35it/s]\u001b[A\n",
      " 97%|█████████▋| 339/351 [01:05<00:02,  4.72it/s]\u001b[A\n",
      " 97%|█████████▋| 340/351 [01:05<00:02,  4.76it/s]\u001b[A\n",
      " 97%|█████████▋| 341/351 [01:05<00:01,  5.12it/s]\u001b[A\n",
      " 97%|█████████▋| 342/351 [01:05<00:01,  5.28it/s]\u001b[A\n",
      " 98%|█████████▊| 343/351 [01:05<00:01,  5.44it/s]\u001b[A\n",
      " 98%|█████████▊| 344/351 [01:05<00:01,  5.46it/s]\u001b[A\n",
      " 98%|█████████▊| 345/351 [01:06<00:01,  4.81it/s]\u001b[A\n",
      " 99%|█████████▊| 346/351 [01:06<00:01,  4.64it/s]\u001b[A\n",
      " 99%|█████████▉| 347/351 [01:06<00:00,  4.39it/s]\u001b[A\n",
      " 99%|█████████▉| 348/351 [01:06<00:00,  4.67it/s]\u001b[A\n",
      " 99%|█████████▉| 349/351 [01:07<00:00,  3.99it/s]\u001b[A\n",
      "100%|█████████▉| 350/351 [01:07<00:00,  3.89it/s]\u001b[A\n",
      "100%|██████████| 351/351 [01:07<00:00,  5.19it/s]\u001b[A\n",
      "\n",
      "  0%|          | 0/351 [00:00<?, ?it/s]\u001b[A\n",
      "  0%|          | 1/351 [00:00<01:29,  3.91it/s]\u001b[A\n",
      "  1%|          | 2/351 [00:00<01:37,  3.59it/s]\u001b[A\n",
      "  1%|          | 3/351 [00:00<01:40,  3.48it/s]\u001b[A\n",
      "  1%|          | 4/351 [00:01<01:41,  3.43it/s]\u001b[A\n",
      "  1%|▏         | 5/351 [00:01<01:41,  3.41it/s]\u001b[A\n",
      "  2%|▏         | 6/351 [00:01<01:40,  3.43it/s]\u001b[A\n",
      "  2%|▏         | 7/351 [00:02<01:34,  3.63it/s]\u001b[A\n",
      "  2%|▏         | 8/351 [00:02<01:34,  3.62it/s]\u001b[A\n",
      "  3%|▎         | 9/351 [00:02<01:40,  3.40it/s]\u001b[A\n",
      "  3%|▎         | 10/351 [00:02<01:35,  3.56it/s]\u001b[A\n",
      "  3%|▎         | 11/351 [00:03<01:35,  3.57it/s]\u001b[A\n",
      "  3%|▎         | 12/351 [00:03<01:33,  3.63it/s]\u001b[A\n",
      "  4%|▎         | 13/351 [00:03<01:37,  3.46it/s]\u001b[A\n",
      "  4%|▍         | 14/351 [00:04<01:38,  3.43it/s]\u001b[A\n",
      "  4%|▍         | 15/351 [00:04<01:44,  3.20it/s]\u001b[A\n",
      "  5%|▍         | 16/351 [00:04<01:35,  3.52it/s]\u001b[A\n",
      "  5%|▍         | 17/351 [00:04<01:32,  3.61it/s]\u001b[A\n",
      "  5%|▌         | 18/351 [00:05<01:35,  3.48it/s]\u001b[A\n",
      "  5%|▌         | 19/351 [00:05<01:30,  3.66it/s]\u001b[A\n",
      "  6%|▌         | 20/351 [00:05<01:24,  3.90it/s]\u001b[A\n",
      "  6%|▌         | 21/351 [00:05<01:30,  3.66it/s]\u001b[A\n",
      "  6%|▋         | 22/351 [00:06<01:32,  3.56it/s]\u001b[A\n",
      "  7%|▋         | 23/351 [00:06<01:39,  3.29it/s]\u001b[A\n",
      "  7%|▋         | 24/351 [00:06<01:44,  3.14it/s]\u001b[A\n",
      "  7%|▋         | 25/351 [00:07<01:37,  3.34it/s]\u001b[A\n",
      "  7%|▋         | 26/351 [00:07<01:35,  3.40it/s]\u001b[A\n",
      "  8%|▊         | 27/351 [00:07<01:35,  3.41it/s]\u001b[A\n",
      "  8%|▊         | 28/351 [00:08<01:25,  3.76it/s]\u001b[A\n",
      "  8%|▊         | 29/351 [00:08<01:22,  3.90it/s]\u001b[A\n",
      "  9%|▊         | 30/351 [00:08<01:12,  4.45it/s]\u001b[A\n",
      "  9%|▉         | 31/351 [00:08<01:05,  4.87it/s]\u001b[A\n",
      "  9%|▉         | 32/351 [00:08<01:04,  4.93it/s]\u001b[A\n",
      "  9%|▉         | 33/351 [00:08<01:04,  4.91it/s]\u001b[A\n",
      " 10%|▉         | 34/351 [00:09<01:05,  4.85it/s]\u001b[A\n",
      " 10%|▉         | 35/351 [00:09<01:02,  5.04it/s]\u001b[A\n",
      " 10%|█         | 36/351 [00:09<00:59,  5.30it/s]\u001b[A\n",
      " 11%|█         | 37/351 [00:09<00:58,  5.40it/s]\u001b[A\n",
      " 11%|█         | 38/351 [00:09<01:03,  4.93it/s]\u001b[A\n",
      " 11%|█         | 39/351 [00:10<01:05,  4.76it/s]\u001b[A\n",
      " 11%|█▏        | 40/351 [00:10<01:10,  4.44it/s]\u001b[A\n",
      " 12%|█▏        | 41/351 [00:10<01:08,  4.55it/s]\u001b[A\n",
      " 12%|█▏        | 42/351 [00:10<01:20,  3.85it/s]\u001b[A\n",
      " 12%|█▏        | 43/351 [00:11<01:29,  3.44it/s]\u001b[A\n",
      " 13%|█▎        | 44/351 [00:11<01:31,  3.34it/s]\u001b[A\n",
      " 13%|█▎        | 45/351 [00:11<01:28,  3.45it/s]\u001b[A\n",
      " 13%|█▎        | 46/351 [00:12<01:28,  3.46it/s]\u001b[A\n",
      " 13%|█▎        | 47/351 [00:12<01:24,  3.62it/s]\u001b[A\n",
      " 14%|█▎        | 48/351 [00:12<01:17,  3.91it/s]\u001b[A\n",
      " 14%|█▍        | 49/351 [00:12<01:09,  4.33it/s]\u001b[A\n",
      " 14%|█▍        | 50/351 [00:13<01:07,  4.44it/s]\u001b[A\n",
      " 15%|█▍        | 51/351 [00:13<01:09,  4.34it/s]\u001b[A\n",
      " 15%|█▍        | 52/351 [00:13<01:07,  4.42it/s]\u001b[A\n",
      " 15%|█▌        | 53/351 [00:13<01:09,  4.27it/s]\u001b[A\n",
      " 15%|█▌        | 54/351 [00:14<01:13,  4.07it/s]\u001b[A\n",
      " 16%|█▌        | 55/351 [00:14<01:15,  3.92it/s]\u001b[A\n",
      " 16%|█▌        | 56/351 [00:14<01:17,  3.81it/s]\u001b[A\n",
      " 16%|█▌        | 57/351 [00:14<01:13,  4.00it/s]\u001b[A\n",
      " 17%|█▋        | 58/351 [00:15<01:08,  4.25it/s]\u001b[A\n",
      " 17%|█▋        | 59/351 [00:15<01:08,  4.28it/s]\u001b[A\n",
      " 17%|█▋        | 60/351 [00:15<01:08,  4.22it/s]\u001b[A\n",
      " 17%|█▋        | 61/351 [00:15<01:15,  3.86it/s]\u001b[A\n",
      " 18%|█▊        | 62/351 [00:16<01:16,  3.77it/s]\u001b[A\n",
      " 18%|█▊        | 63/351 [00:16<01:17,  3.72it/s]\u001b[A\n",
      " 18%|█▊        | 64/351 [00:16<01:18,  3.66it/s]\u001b[A\n",
      " 19%|█▊        | 65/351 [00:16<01:17,  3.69it/s]\u001b[A\n",
      " 19%|█▉        | 66/351 [00:17<01:12,  3.91it/s]\u001b[A\n",
      " 19%|█▉        | 67/351 [00:17<01:11,  3.99it/s]\u001b[A\n",
      " 19%|█▉        | 68/351 [00:17<01:05,  4.34it/s]\u001b[A\n",
      " 20%|█▉        | 69/351 [00:17<01:01,  4.59it/s]\u001b[A\n",
      " 20%|█▉        | 70/351 [00:17<00:58,  4.81it/s]\u001b[A\n",
      " 20%|██        | 71/351 [00:18<00:55,  5.06it/s]\u001b[A\n"
     ]
    },
    {
     "name": "stderr",
     "output_type": "stream",
     "text": [
      " 21%|██        | 72/351 [00:18<00:53,  5.18it/s]\u001b[A\n",
      " 21%|██        | 73/351 [00:18<00:52,  5.27it/s]\u001b[A\n",
      " 21%|██        | 74/351 [00:18<00:49,  5.57it/s]\u001b[A\n",
      " 21%|██▏       | 75/351 [00:18<00:46,  5.89it/s]\u001b[A\n",
      " 22%|██▏       | 76/351 [00:18<00:46,  5.86it/s]\u001b[A\n",
      " 22%|██▏       | 77/351 [00:19<00:47,  5.80it/s]\u001b[A\n",
      " 22%|██▏       | 78/351 [00:19<00:46,  5.88it/s]\u001b[A\n",
      " 23%|██▎       | 79/351 [00:19<00:46,  5.82it/s]\u001b[A\n",
      " 23%|██▎       | 80/351 [00:19<00:45,  5.92it/s]\u001b[A\n",
      " 23%|██▎       | 81/351 [00:19<00:46,  5.79it/s]\u001b[A\n",
      " 23%|██▎       | 82/351 [00:19<00:46,  5.75it/s]\u001b[A\n",
      " 24%|██▎       | 83/351 [00:20<00:44,  5.99it/s]\u001b[A\n",
      " 24%|██▍       | 84/351 [00:20<00:45,  5.92it/s]\u001b[A\n",
      " 24%|██▍       | 85/351 [00:20<00:44,  6.02it/s]\u001b[A\n",
      " 25%|██▍       | 86/351 [00:20<00:43,  6.14it/s]\u001b[A\n",
      " 25%|██▍       | 87/351 [00:20<00:42,  6.17it/s]\u001b[A\n",
      " 25%|██▌       | 88/351 [00:20<00:43,  5.98it/s]\u001b[A\n",
      " 25%|██▌       | 89/351 [00:21<00:44,  5.90it/s]\u001b[A\n",
      " 26%|██▌       | 90/351 [00:21<00:43,  5.93it/s]\u001b[A\n",
      " 26%|██▌       | 91/351 [00:21<00:43,  5.99it/s]\u001b[A\n",
      " 26%|██▌       | 92/351 [00:21<00:44,  5.82it/s]\u001b[A\n",
      " 26%|██▋       | 93/351 [00:21<00:42,  6.03it/s]\u001b[A\n",
      " 27%|██▋       | 94/351 [00:21<00:43,  5.96it/s]\u001b[A\n",
      " 27%|██▋       | 95/351 [00:22<00:46,  5.52it/s]\u001b[A\n",
      " 27%|██▋       | 96/351 [00:22<00:47,  5.42it/s]\u001b[A\n",
      " 28%|██▊       | 97/351 [00:22<00:48,  5.24it/s]\u001b[A\n",
      " 28%|██▊       | 98/351 [00:22<00:49,  5.14it/s]\u001b[A\n",
      " 28%|██▊       | 99/351 [00:22<00:47,  5.27it/s]\u001b[A\n",
      " 28%|██▊       | 100/351 [00:23<00:50,  4.96it/s]\u001b[A\n",
      " 29%|██▉       | 101/351 [00:23<00:48,  5.14it/s]\u001b[A\n",
      " 29%|██▉       | 102/351 [00:23<00:51,  4.80it/s]\u001b[A\n",
      " 29%|██▉       | 103/351 [00:23<00:51,  4.86it/s]\u001b[A\n",
      " 30%|██▉       | 104/351 [00:23<00:49,  5.02it/s]\u001b[A\n",
      " 30%|██▉       | 105/351 [00:24<00:49,  5.01it/s]\u001b[A\n",
      " 30%|███       | 106/351 [00:24<00:52,  4.71it/s]\u001b[A\n",
      " 30%|███       | 107/351 [00:24<00:49,  4.90it/s]\u001b[A\n",
      " 31%|███       | 108/351 [00:24<00:46,  5.24it/s]\u001b[A\n",
      " 31%|███       | 109/351 [00:24<00:45,  5.28it/s]\u001b[A\n",
      " 31%|███▏      | 110/351 [00:25<00:43,  5.51it/s]\u001b[A\n",
      " 32%|███▏      | 111/351 [00:25<00:42,  5.66it/s]\u001b[A\n",
      " 32%|███▏      | 112/351 [00:25<00:41,  5.83it/s]\u001b[A\n",
      " 32%|███▏      | 113/351 [00:25<00:41,  5.70it/s]\u001b[A\n",
      " 32%|███▏      | 114/351 [00:25<00:40,  5.80it/s]\u001b[A\n",
      " 33%|███▎      | 115/351 [00:26<00:42,  5.54it/s]\u001b[A\n",
      " 33%|███▎      | 116/351 [00:26<00:44,  5.28it/s]\u001b[A\n",
      " 33%|███▎      | 117/351 [00:26<00:42,  5.54it/s]\u001b[A\n",
      " 34%|███▎      | 118/351 [00:26<00:40,  5.72it/s]\u001b[A\n",
      " 34%|███▍      | 119/351 [00:26<00:39,  5.88it/s]\u001b[A\n",
      " 34%|███▍      | 120/351 [00:26<00:40,  5.65it/s]\u001b[A\n",
      " 34%|███▍      | 121/351 [00:27<00:43,  5.34it/s]\u001b[A\n",
      " 35%|███▍      | 122/351 [00:27<00:43,  5.28it/s]\u001b[A\n",
      " 35%|███▌      | 123/351 [00:27<00:45,  4.98it/s]\u001b[A\n",
      " 35%|███▌      | 124/351 [00:27<00:44,  5.13it/s]\u001b[A\n",
      " 36%|███▌      | 125/351 [00:27<00:42,  5.33it/s]\u001b[A\n",
      " 36%|███▌      | 126/351 [00:28<00:40,  5.50it/s]\u001b[A\n",
      " 36%|███▌      | 127/351 [00:28<00:41,  5.36it/s]\u001b[A\n",
      " 36%|███▋      | 128/351 [00:28<00:42,  5.28it/s]\u001b[A\n",
      " 37%|███▋      | 129/351 [00:28<00:42,  5.25it/s]\u001b[A\n",
      " 37%|███▋      | 130/351 [00:28<00:41,  5.31it/s]\u001b[A\n",
      " 37%|███▋      | 131/351 [00:28<00:40,  5.38it/s]\u001b[A\n",
      " 38%|███▊      | 132/351 [00:29<00:39,  5.57it/s]\u001b[A\n",
      " 38%|███▊      | 133/351 [00:29<00:37,  5.74it/s]\u001b[A\n",
      " 38%|███▊      | 134/351 [00:29<00:38,  5.66it/s]\u001b[A\n",
      " 38%|███▊      | 135/351 [00:29<00:36,  5.85it/s]\u001b[A\n",
      " 39%|███▊      | 136/351 [00:29<00:38,  5.61it/s]\u001b[A\n",
      " 39%|███▉      | 137/351 [00:30<00:38,  5.51it/s]\u001b[A\n",
      " 39%|███▉      | 138/351 [00:30<00:38,  5.53it/s]\u001b[A\n",
      " 40%|███▉      | 139/351 [00:30<00:38,  5.53it/s]\u001b[A\n",
      " 40%|███▉      | 140/351 [00:30<00:37,  5.61it/s]\u001b[A\n",
      " 40%|████      | 141/351 [00:30<00:36,  5.75it/s]\u001b[A\n",
      " 40%|████      | 142/351 [00:30<00:35,  5.81it/s]\u001b[A\n",
      " 41%|████      | 143/351 [00:31<00:36,  5.69it/s]\u001b[A\n",
      " 41%|████      | 144/351 [00:31<00:37,  5.59it/s]\u001b[A\n",
      " 41%|████▏     | 145/351 [00:31<00:38,  5.34it/s]\u001b[A\n",
      " 42%|████▏     | 146/351 [00:31<00:38,  5.39it/s]\u001b[A\n",
      " 42%|████▏     | 147/351 [00:31<00:37,  5.45it/s]\u001b[A\n",
      " 42%|████▏     | 148/351 [00:32<00:37,  5.40it/s]\u001b[A\n",
      " 42%|████▏     | 149/351 [00:32<00:37,  5.32it/s]\u001b[A\n",
      " 43%|████▎     | 150/351 [00:32<00:37,  5.35it/s]\u001b[A\n",
      " 43%|████▎     | 151/351 [00:32<00:37,  5.36it/s]\u001b[A\n",
      " 43%|████▎     | 152/351 [00:32<00:36,  5.51it/s]\u001b[A\n",
      " 44%|████▎     | 153/351 [00:32<00:35,  5.51it/s]\u001b[A\n",
      " 44%|████▍     | 154/351 [00:33<00:34,  5.72it/s]\u001b[A\n",
      " 44%|████▍     | 155/351 [00:33<00:34,  5.70it/s]\u001b[A\n",
      " 44%|████▍     | 156/351 [00:33<00:34,  5.71it/s]\u001b[A\n",
      " 45%|████▍     | 157/351 [00:33<00:34,  5.58it/s]\u001b[A\n",
      " 45%|████▌     | 158/351 [00:33<00:34,  5.59it/s]\u001b[A\n",
      " 45%|████▌     | 159/351 [00:34<00:35,  5.45it/s]\u001b[A\n",
      " 46%|████▌     | 160/351 [00:34<00:35,  5.36it/s]\u001b[A\n",
      " 46%|████▌     | 161/351 [00:34<00:35,  5.32it/s]\u001b[A\n",
      " 46%|████▌     | 162/351 [00:34<00:34,  5.48it/s]\u001b[A\n",
      " 46%|████▋     | 163/351 [00:34<00:32,  5.70it/s]\u001b[A\n",
      " 47%|████▋     | 164/351 [00:34<00:32,  5.78it/s]\u001b[A\n",
      " 47%|████▋     | 165/351 [00:35<00:32,  5.70it/s]\u001b[A\n",
      " 47%|████▋     | 166/351 [00:35<00:32,  5.71it/s]\u001b[A\n",
      " 48%|████▊     | 167/351 [00:35<00:32,  5.69it/s]\u001b[A\n",
      " 48%|████▊     | 168/351 [00:35<00:31,  5.75it/s]\u001b[A\n",
      " 48%|████▊     | 169/351 [00:35<00:31,  5.82it/s]\u001b[A\n",
      " 48%|████▊     | 170/351 [00:35<00:30,  5.85it/s]\u001b[A\n",
      " 49%|████▊     | 171/351 [00:36<00:31,  5.74it/s]\u001b[A\n",
      " 49%|████▉     | 172/351 [00:36<00:31,  5.67it/s]\u001b[A\n",
      " 49%|████▉     | 173/351 [00:36<00:31,  5.64it/s]\u001b[A\n",
      " 50%|████▉     | 174/351 [00:36<00:30,  5.80it/s]\u001b[A\n",
      " 50%|████▉     | 175/351 [00:36<00:29,  5.87it/s]\u001b[A\n",
      " 50%|█████     | 176/351 [00:36<00:29,  5.96it/s]\u001b[A\n",
      " 50%|█████     | 177/351 [00:37<00:30,  5.64it/s]\u001b[A\n",
      " 51%|█████     | 178/351 [00:37<00:30,  5.61it/s]\u001b[A\n",
      " 51%|█████     | 179/351 [00:37<00:30,  5.62it/s]\u001b[A\n",
      " 51%|█████▏    | 180/351 [00:37<00:31,  5.52it/s]\u001b[A\n",
      " 52%|█████▏    | 181/351 [00:37<00:30,  5.51it/s]\u001b[A\n",
      " 52%|█████▏    | 182/351 [00:38<00:30,  5.53it/s]\u001b[A\n",
      " 52%|█████▏    | 183/351 [00:38<00:30,  5.51it/s]\u001b[A\n",
      " 52%|█████▏    | 184/351 [00:38<00:30,  5.44it/s]\u001b[A\n",
      " 53%|█████▎    | 185/351 [00:38<00:29,  5.60it/s]\u001b[A\n",
      " 53%|█████▎    | 186/351 [00:38<00:29,  5.67it/s]\u001b[A\n",
      " 53%|█████▎    | 187/351 [00:38<00:28,  5.73it/s]\u001b[A\n",
      " 54%|█████▎    | 188/351 [00:39<00:29,  5.53it/s]\u001b[A\n",
      " 54%|█████▍    | 189/351 [00:39<00:28,  5.68it/s]\u001b[A\n",
      " 54%|█████▍    | 190/351 [00:39<00:27,  5.76it/s]\u001b[A\n",
      " 54%|█████▍    | 191/351 [00:39<00:29,  5.49it/s]\u001b[A\n",
      " 55%|█████▍    | 192/351 [00:39<00:30,  5.30it/s]\u001b[A\n",
      " 55%|█████▍    | 193/351 [00:40<00:30,  5.25it/s]\u001b[A\n",
      " 55%|█████▌    | 194/351 [00:40<00:29,  5.30it/s]\u001b[A\n",
      " 56%|█████▌    | 195/351 [00:40<00:29,  5.23it/s]\u001b[A\n",
      " 56%|█████▌    | 196/351 [00:40<00:29,  5.34it/s]\u001b[A\n",
      " 56%|█████▌    | 197/351 [00:40<00:27,  5.60it/s]\u001b[A\n",
      " 56%|█████▋    | 198/351 [00:41<00:28,  5.33it/s]\u001b[A\n",
      " 57%|█████▋    | 199/351 [00:41<00:28,  5.31it/s]\u001b[A\n",
      " 57%|█████▋    | 200/351 [00:41<00:28,  5.33it/s]\u001b[A\n",
      " 57%|█████▋    | 201/351 [00:41<00:27,  5.53it/s]\u001b[A\n",
      " 58%|█████▊    | 202/351 [00:41<00:26,  5.53it/s]\u001b[A\n",
      " 58%|█████▊    | 203/351 [00:41<00:26,  5.56it/s]\u001b[A\n",
      " 58%|█████▊    | 204/351 [00:42<00:26,  5.55it/s]\u001b[A\n",
      " 58%|█████▊    | 205/351 [00:42<00:26,  5.41it/s]\u001b[A\n",
      " 59%|█████▊    | 206/351 [00:42<00:26,  5.50it/s]\u001b[A\n",
      " 59%|█████▉    | 207/351 [00:42<00:26,  5.45it/s]\u001b[A\n",
      " 59%|█████▉    | 208/351 [00:42<00:25,  5.57it/s]\u001b[A\n",
      " 60%|█████▉    | 209/351 [00:43<00:26,  5.40it/s]\u001b[A\n",
      " 60%|█████▉    | 210/351 [00:43<00:25,  5.48it/s]\u001b[A\n",
      " 60%|██████    | 211/351 [00:43<00:25,  5.59it/s]\u001b[A\n",
      " 60%|██████    | 212/351 [00:43<00:25,  5.53it/s]\u001b[A\n",
      " 61%|██████    | 213/351 [00:43<00:24,  5.64it/s]\u001b[A\n",
      " 61%|██████    | 214/351 [00:43<00:23,  5.74it/s]\u001b[A\n",
      " 61%|██████▏   | 215/351 [00:44<00:23,  5.71it/s]\u001b[A\n",
      " 62%|██████▏   | 216/351 [00:44<00:23,  5.79it/s]\u001b[A\n",
      " 62%|██████▏   | 217/351 [00:44<00:24,  5.54it/s]\u001b[A\n",
      " 62%|██████▏   | 218/351 [00:44<00:23,  5.67it/s]\u001b[A\n",
      " 62%|██████▏   | 219/351 [00:44<00:22,  5.88it/s]\u001b[A\n",
      " 63%|██████▎   | 220/351 [00:44<00:22,  5.82it/s]\u001b[A\n",
      " 63%|██████▎   | 221/351 [00:45<00:22,  5.77it/s]\u001b[A\n",
      " 63%|██████▎   | 222/351 [00:45<00:22,  5.69it/s]\u001b[A\n",
      " 64%|██████▎   | 223/351 [00:45<00:23,  5.54it/s]\u001b[A\n",
      " 64%|██████▍   | 224/351 [00:45<00:23,  5.29it/s]\u001b[A\n",
      " 64%|██████▍   | 225/351 [00:45<00:24,  5.17it/s]\u001b[A\n",
      " 64%|██████▍   | 226/351 [00:46<00:23,  5.26it/s]\u001b[A\n"
     ]
    },
    {
     "name": "stderr",
     "output_type": "stream",
     "text": [
      " 65%|██████▍   | 227/351 [00:46<00:23,  5.25it/s]\u001b[A\n",
      " 65%|██████▍   | 228/351 [00:46<00:23,  5.32it/s]\u001b[A\n",
      " 65%|██████▌   | 229/351 [00:46<00:22,  5.33it/s]\u001b[A\n",
      " 66%|██████▌   | 230/351 [00:46<00:22,  5.38it/s]\u001b[A\n",
      " 66%|██████▌   | 231/351 [00:47<00:22,  5.31it/s]\u001b[A\n",
      " 66%|██████▌   | 232/351 [00:47<00:22,  5.41it/s]\u001b[A\n",
      " 66%|██████▋   | 233/351 [00:47<00:22,  5.29it/s]\u001b[A\n",
      " 67%|██████▋   | 234/351 [00:47<00:21,  5.45it/s]\u001b[A\n",
      " 67%|██████▋   | 235/351 [00:47<00:21,  5.43it/s]\u001b[A\n",
      " 67%|██████▋   | 236/351 [00:47<00:20,  5.54it/s]\u001b[A\n",
      " 68%|██████▊   | 237/351 [00:48<00:19,  5.71it/s]\u001b[A\n",
      " 68%|██████▊   | 238/351 [00:48<00:19,  5.76it/s]\u001b[A\n",
      " 68%|██████▊   | 239/351 [00:48<00:19,  5.71it/s]\u001b[A\n",
      " 68%|██████▊   | 240/351 [00:48<00:18,  5.92it/s]\u001b[A\n",
      " 69%|██████▊   | 241/351 [00:48<00:18,  5.93it/s]\u001b[A\n",
      " 69%|██████▉   | 242/351 [00:48<00:18,  5.85it/s]\u001b[A\n",
      " 69%|██████▉   | 243/351 [00:49<00:18,  5.93it/s]\u001b[A\n",
      " 70%|██████▉   | 244/351 [00:49<00:18,  5.92it/s]\u001b[A\n",
      " 70%|██████▉   | 245/351 [00:49<00:17,  6.00it/s]\u001b[A\n",
      " 70%|███████   | 246/351 [00:49<00:17,  5.95it/s]\u001b[A\n",
      " 70%|███████   | 247/351 [00:49<00:17,  5.80it/s]\u001b[A\n",
      " 71%|███████   | 248/351 [00:49<00:18,  5.69it/s]\u001b[A\n",
      " 71%|███████   | 249/351 [00:50<00:18,  5.39it/s]\u001b[A\n",
      " 71%|███████   | 250/351 [00:50<00:18,  5.40it/s]\u001b[A\n",
      " 72%|███████▏  | 251/351 [00:50<00:18,  5.42it/s]\u001b[A\n",
      " 72%|███████▏  | 252/351 [00:50<00:18,  5.49it/s]\u001b[A\n",
      " 72%|███████▏  | 253/351 [00:50<00:17,  5.49it/s]\u001b[A\n",
      " 72%|███████▏  | 254/351 [00:51<00:17,  5.39it/s]\u001b[A\n",
      " 73%|███████▎  | 255/351 [00:51<00:18,  5.30it/s]\u001b[A\n",
      " 73%|███████▎  | 256/351 [00:51<00:17,  5.30it/s]\u001b[A\n",
      " 73%|███████▎  | 257/351 [00:51<00:17,  5.28it/s]\u001b[A\n",
      " 74%|███████▎  | 258/351 [00:51<00:17,  5.39it/s]\u001b[A\n",
      " 74%|███████▍  | 259/351 [00:52<00:17,  5.40it/s]\u001b[A\n",
      " 74%|███████▍  | 260/351 [00:52<00:16,  5.44it/s]\u001b[A\n",
      " 74%|███████▍  | 261/351 [00:52<00:16,  5.57it/s]\u001b[A\n",
      " 75%|███████▍  | 262/351 [00:52<00:16,  5.52it/s]\u001b[A\n",
      " 75%|███████▍  | 263/351 [00:52<00:15,  5.62it/s]\u001b[A\n",
      " 75%|███████▌  | 264/351 [00:52<00:15,  5.63it/s]\u001b[A\n",
      " 75%|███████▌  | 265/351 [00:53<00:15,  5.46it/s]\u001b[A\n",
      " 76%|███████▌  | 266/351 [00:53<00:15,  5.48it/s]\u001b[A\n",
      " 76%|███████▌  | 267/351 [00:53<00:15,  5.44it/s]\u001b[A\n",
      " 76%|███████▋  | 268/351 [00:53<00:15,  5.40it/s]\u001b[A\n",
      " 77%|███████▋  | 269/351 [00:53<00:15,  5.32it/s]\u001b[A\n",
      " 77%|███████▋  | 270/351 [00:54<00:15,  5.36it/s]\u001b[A\n",
      " 77%|███████▋  | 271/351 [00:54<00:14,  5.37it/s]\u001b[A\n",
      " 77%|███████▋  | 272/351 [00:54<00:14,  5.31it/s]\u001b[A\n",
      " 78%|███████▊  | 273/351 [00:54<00:14,  5.46it/s]\u001b[A\n",
      " 78%|███████▊  | 274/351 [00:54<00:14,  5.49it/s]\u001b[A\n",
      " 78%|███████▊  | 275/351 [00:54<00:13,  5.57it/s]\u001b[A\n",
      " 79%|███████▊  | 276/351 [00:55<00:13,  5.42it/s]\u001b[A\n",
      " 79%|███████▉  | 277/351 [00:55<00:13,  5.36it/s]\u001b[A\n",
      " 79%|███████▉  | 278/351 [00:55<00:13,  5.32it/s]\u001b[A\n",
      " 79%|███████▉  | 279/351 [00:55<00:13,  5.42it/s]\u001b[A\n",
      " 80%|███████▉  | 280/351 [00:55<00:13,  5.41it/s]\u001b[A\n",
      " 80%|████████  | 281/351 [00:56<00:12,  5.60it/s]\u001b[A\n",
      " 80%|████████  | 282/351 [00:56<00:12,  5.59it/s]\u001b[A\n",
      " 81%|████████  | 283/351 [00:56<00:12,  5.40it/s]\u001b[A\n",
      " 81%|████████  | 284/351 [00:56<00:12,  5.47it/s]\u001b[A\n",
      " 81%|████████  | 285/351 [00:56<00:11,  5.54it/s]\u001b[A\n",
      " 81%|████████▏ | 286/351 [00:56<00:11,  5.56it/s]\u001b[A\n",
      " 82%|████████▏ | 287/351 [00:57<00:11,  5.55it/s]\u001b[A\n",
      " 82%|████████▏ | 288/351 [00:57<00:11,  5.48it/s]\u001b[A\n",
      " 82%|████████▏ | 289/351 [00:57<00:11,  5.52it/s]\u001b[A\n",
      " 83%|████████▎ | 290/351 [00:57<00:10,  5.63it/s]\u001b[A\n",
      " 83%|████████▎ | 291/351 [00:57<00:10,  5.47it/s]\u001b[A\n",
      " 83%|████████▎ | 292/351 [00:58<00:10,  5.62it/s]\u001b[A\n",
      " 83%|████████▎ | 293/351 [00:58<00:10,  5.65it/s]\u001b[A\n",
      " 84%|████████▍ | 294/351 [00:58<00:10,  5.59it/s]\u001b[A\n",
      " 84%|████████▍ | 295/351 [00:58<00:09,  5.72it/s]\u001b[A\n",
      " 84%|████████▍ | 296/351 [00:58<00:09,  5.87it/s]\u001b[A\n",
      " 85%|████████▍ | 297/351 [00:58<00:09,  5.97it/s]\u001b[A\n",
      " 85%|████████▍ | 298/351 [00:59<00:08,  5.98it/s]\u001b[A\n",
      " 85%|████████▌ | 299/351 [00:59<00:08,  5.91it/s]\u001b[A\n",
      " 85%|████████▌ | 300/351 [00:59<00:08,  5.97it/s]\u001b[A\n",
      " 86%|████████▌ | 301/351 [00:59<00:08,  5.92it/s]\u001b[A\n",
      " 86%|████████▌ | 302/351 [00:59<00:08,  5.94it/s]\u001b[A\n",
      " 86%|████████▋ | 303/351 [00:59<00:08,  5.90it/s]\u001b[A\n",
      " 87%|████████▋ | 304/351 [01:00<00:08,  5.81it/s]\u001b[A\n",
      " 87%|████████▋ | 305/351 [01:00<00:08,  5.72it/s]\u001b[A\n",
      " 87%|████████▋ | 306/351 [01:00<00:07,  5.78it/s]\u001b[A\n",
      " 87%|████████▋ | 307/351 [01:00<00:07,  5.84it/s]\u001b[A\n",
      " 88%|████████▊ | 308/351 [01:00<00:07,  5.95it/s]\u001b[A\n",
      " 88%|████████▊ | 309/351 [01:00<00:06,  6.05it/s]\u001b[A\n",
      " 88%|████████▊ | 310/351 [01:01<00:06,  6.03it/s]\u001b[A\n",
      " 89%|████████▊ | 311/351 [01:01<00:06,  6.01it/s]\u001b[A\n",
      " 89%|████████▉ | 312/351 [01:01<00:06,  5.88it/s]\u001b[A\n",
      " 89%|████████▉ | 313/351 [01:01<00:06,  5.94it/s]\u001b[A\n",
      " 89%|████████▉ | 314/351 [01:01<00:06,  5.79it/s]\u001b[A\n",
      " 90%|████████▉ | 315/351 [01:01<00:06,  5.78it/s]\u001b[A\n",
      " 90%|█████████ | 316/351 [01:02<00:06,  5.75it/s]\u001b[A\n",
      " 90%|█████████ | 317/351 [01:02<00:05,  5.72it/s]\u001b[A\n",
      " 91%|█████████ | 318/351 [01:02<00:05,  5.73it/s]\u001b[A\n",
      " 91%|█████████ | 319/351 [01:02<00:05,  5.86it/s]\u001b[A\n",
      " 91%|█████████ | 320/351 [01:02<00:05,  6.02it/s]\u001b[A\n",
      " 91%|█████████▏| 321/351 [01:02<00:04,  6.00it/s]\u001b[A\n",
      " 92%|█████████▏| 322/351 [01:03<00:04,  5.97it/s]\u001b[A\n",
      " 92%|█████████▏| 323/351 [01:03<00:04,  5.94it/s]\u001b[A\n",
      " 92%|█████████▏| 324/351 [01:03<00:04,  5.96it/s]\u001b[A\n",
      " 93%|█████████▎| 325/351 [01:03<00:04,  5.78it/s]\u001b[A\n",
      " 93%|█████████▎| 326/351 [01:03<00:04,  5.89it/s]\u001b[A\n",
      " 93%|█████████▎| 327/351 [01:03<00:04,  5.88it/s]\u001b[A\n",
      " 93%|█████████▎| 328/351 [01:04<00:03,  5.84it/s]\u001b[A\n",
      " 94%|█████████▎| 329/351 [01:04<00:03,  5.81it/s]\u001b[A\n",
      " 94%|█████████▍| 330/351 [01:04<00:03,  5.91it/s]\u001b[A\n",
      " 94%|█████████▍| 331/351 [01:04<00:03,  6.01it/s]\u001b[A\n",
      " 95%|█████████▍| 332/351 [01:04<00:03,  6.12it/s]\u001b[A\n",
      " 95%|█████████▍| 333/351 [01:04<00:02,  6.13it/s]\u001b[A\n",
      " 95%|█████████▌| 334/351 [01:05<00:02,  6.05it/s]\u001b[A\n",
      " 95%|█████████▌| 335/351 [01:05<00:02,  6.06it/s]\u001b[A\n",
      " 96%|█████████▌| 336/351 [01:05<00:02,  6.03it/s]\u001b[A\n",
      " 96%|█████████▌| 337/351 [01:05<00:02,  5.78it/s]\u001b[A\n",
      " 96%|█████████▋| 338/351 [01:05<00:02,  5.82it/s]\u001b[A\n",
      " 97%|█████████▋| 339/351 [01:05<00:02,  5.85it/s]\u001b[A\n",
      " 97%|█████████▋| 340/351 [01:06<00:01,  5.85it/s]\u001b[A\n",
      " 97%|█████████▋| 341/351 [01:06<00:01,  5.82it/s]\u001b[A\n",
      " 97%|█████████▋| 342/351 [01:06<00:01,  5.86it/s]\u001b[A\n",
      " 98%|█████████▊| 343/351 [01:06<00:01,  6.02it/s]\u001b[A\n",
      " 98%|█████████▊| 344/351 [01:06<00:01,  6.11it/s]\u001b[A\n",
      " 98%|█████████▊| 345/351 [01:06<00:00,  6.10it/s]\u001b[A\n",
      " 99%|█████████▊| 346/351 [01:07<00:00,  6.04it/s]\u001b[A\n",
      " 99%|█████████▉| 347/351 [01:07<00:00,  5.92it/s]\u001b[A\n",
      " 99%|█████████▉| 348/351 [01:07<00:00,  5.88it/s]\u001b[A\n",
      " 99%|█████████▉| 349/351 [01:07<00:00,  5.78it/s]\u001b[A\n",
      "100%|█████████▉| 350/351 [01:07<00:00,  5.72it/s]\u001b[A\n",
      "100%|██████████| 351/351 [01:08<00:00,  5.16it/s]\u001b[A"
     ]
    },
    {
     "name": "stdout",
     "output_type": "stream",
     "text": [
      "tensor(1.6158, grad_fn=<MseLossBackward>)\n"
     ]
    },
    {
     "name": "stderr",
     "output_type": "stream",
     "text": [
      "\n"
     ]
    }
   ],
   "source": [
    "for epoch in range(EPOCHS):\n",
    "    for i in tqdm(range(0, len(train_X), BATCH_SIZE)):\n",
    "        batch_X = train_X[i:i+BATCH_SIZE].view(-1, 1, 50, 50)\n",
    "        batch_y = train_y[i:i+BATCH_SIZE]\n",
    "        \n",
    "        net.zero_grad()\n",
    "        outputs = net(batch_X)\n",
    "        loss = loss_function(outputs, batch_y)\n",
    "        loss.backward()\n",
    "        optimizer.step()\n",
    "print(loss)"
   ]
  },
  {
   "cell_type": "code",
   "execution_count": 96,
   "metadata": {},
   "outputs": [
    {
     "name": "stderr",
     "output_type": "stream",
     "text": [
      "\n",
      "  0%|          | 0/2494 [00:00<?, ?it/s]\u001b[A\n",
      "  3%|▎         | 86/2494 [00:00<00:02, 855.52it/s]\u001b[A\n",
      "  8%|▊         | 203/2494 [00:00<00:02, 930.28it/s]\u001b[A\n",
      " 12%|█▏        | 311/2494 [00:00<00:02, 970.08it/s]\u001b[A\n",
      " 17%|█▋        | 421/2494 [00:00<00:02, 1004.43it/s]\u001b[A\n",
      " 21%|██▏       | 530/2494 [00:00<00:01, 1027.48it/s]\u001b[A\n",
      " 26%|██▌       | 638/2494 [00:00<00:01, 1041.79it/s]\u001b[A\n",
      " 30%|██▉       | 748/2494 [00:00<00:01, 1056.32it/s]\u001b[A\n",
      " 34%|███▍      | 859/2494 [00:00<00:01, 1069.48it/s]\u001b[A\n",
      " 39%|███▉      | 969/2494 [00:00<00:01, 1075.00it/s]\u001b[A\n",
      " 43%|████▎     | 1078/2494 [00:01<00:01, 1077.78it/s]\u001b[A\n",
      " 47%|████▋     | 1184/2494 [00:01<00:01, 1012.26it/s]\u001b[A\n",
      " 52%|█████▏    | 1285/2494 [00:01<00:01, 1002.27it/s]\u001b[A\n",
      " 56%|█████▌    | 1385/2494 [00:01<00:01, 954.02it/s] \u001b[A\n",
      " 59%|█████▉    | 1481/2494 [00:01<00:01, 954.65it/s]\u001b[A\n",
      " 63%|██████▎   | 1577/2494 [00:01<00:01, 868.94it/s]\u001b[A\n",
      " 67%|██████▋   | 1666/2494 [00:01<00:00, 850.60it/s]\u001b[A\n",
      " 71%|███████   | 1761/2494 [00:01<00:00, 877.19it/s]\u001b[A\n",
      " 74%|███████▍  | 1856/2494 [00:01<00:00, 895.76it/s]\u001b[A\n",
      " 79%|███████▉  | 1972/2494 [00:01<00:00, 961.10it/s]\u001b[A\n",
      " 84%|████████▍ | 2089/2494 [00:02<00:00, 1015.27it/s]\u001b[A\n",
      " 88%|████████▊ | 2206/2494 [00:02<00:00, 1054.23it/s]\u001b[A\n",
      " 93%|█████████▎| 2314/2494 [00:02<00:00, 1036.24it/s]\u001b[A\n",
      "100%|██████████| 2494/2494 [00:02<00:00, 1008.46it/s]\u001b[A"
     ]
    },
    {
     "name": "stdout",
     "output_type": "stream",
     "text": [
      "Accuracy:  0.752\n"
     ]
    },
    {
     "name": "stderr",
     "output_type": "stream",
     "text": [
      "\n"
     ]
    }
   ],
   "source": [
    "correct = 0\n",
    "total = 0\n",
    "with torch.no_grad():\n",
    "    for i in tqdm(range(len(test_X))):\n",
    "        real_class = torch.argmax(test_y[i])\n",
    "        net_out = net(test_X[i].view(-1, 1, 50, 50))[0]\n",
    "        predicted_class = torch.argmax(net_out)\n",
    "        if predicted_class == real_class:\n",
    "            correct+=1\n",
    "        total+=1\n",
    "print(\"Accuracy: \", round(correct/total, 3))"
   ]
  },
  {
   "cell_type": "code",
   "execution_count": null,
   "metadata": {},
   "outputs": [],
   "source": []
  }
 ],
 "metadata": {
  "kernelspec": {
   "display_name": "Python 3",
   "language": "python",
   "name": "python3"
  },
  "language_info": {
   "codemirror_mode": {
    "name": "ipython",
    "version": 3
   },
   "file_extension": ".py",
   "mimetype": "text/x-python",
   "name": "python",
   "nbconvert_exporter": "python",
   "pygments_lexer": "ipython3",
   "version": "3.7.4"
  }
 },
 "nbformat": 4,
 "nbformat_minor": 2
}
