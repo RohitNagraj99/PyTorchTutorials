{
 "cells": [
  {
   "cell_type": "code",
   "execution_count": 12,
   "metadata": {},
   "outputs": [
    {
     "ename": "ModuleNotFoundError",
     "evalue": "No module named 'Part2'",
     "output_type": "error",
     "traceback": [
      "\u001b[0;31m---------------------------------------------------------------------------\u001b[0m",
      "\u001b[0;31mModuleNotFoundError\u001b[0m                       Traceback (most recent call last)",
      "\u001b[0;32m<ipython-input-12-1a797e6b487c>\u001b[0m in \u001b[0;36m<module>\u001b[0;34m\u001b[0m\n\u001b[1;32m      4\u001b[0m \u001b[0;32mimport\u001b[0m \u001b[0mtorchvision\u001b[0m\u001b[0;34m\u001b[0m\u001b[0;34m\u001b[0m\u001b[0m\n\u001b[1;32m      5\u001b[0m \u001b[0;32mfrom\u001b[0m \u001b[0mtorchvision\u001b[0m \u001b[0;32mimport\u001b[0m \u001b[0mtransforms\u001b[0m\u001b[0;34m,\u001b[0m \u001b[0mdatasets\u001b[0m\u001b[0;34m\u001b[0m\u001b[0;34m\u001b[0m\u001b[0m\n\u001b[0;32m----> 6\u001b[0;31m \u001b[0;32mfrom\u001b[0m \u001b[0mPart2\u001b[0m \u001b[0;32mimport\u001b[0m \u001b[0mtestset\u001b[0m\u001b[0;34m,\u001b[0m \u001b[0mtrainset\u001b[0m\u001b[0;34m\u001b[0m\u001b[0;34m\u001b[0m\u001b[0m\n\u001b[0m",
      "\u001b[0;31mModuleNotFoundError\u001b[0m: No module named 'Part2'"
     ]
    }
   ],
   "source": [
    "import torch.nn as nn\n",
    "import torch.nn.functional as F\n",
    "import torch\n",
    "import torchvision\n",
    "from torchvision import transforms, datasets\n",
    "from Part2 import testset, trainset"
   ]
  },
  {
   "cell_type": "code",
   "execution_count": 13,
   "metadata": {},
   "outputs": [],
   "source": [
    "train =  datasets.MNIST(\"\", train=True, download=False, transform = transforms.Compose([\n",
    "    transforms.ToTensor()\n",
    "]))\n",
    "test = datasets.MNIST(\"\", train=False, download=False, transform = transforms.Compose([\n",
    "    transforms.ToTensor()\n",
    "]))"
   ]
  },
  {
   "cell_type": "code",
   "execution_count": 14,
   "metadata": {},
   "outputs": [],
   "source": [
    "trainset = torch.utils.data.DataLoader(train, batch_size=10, shuffle=True)\n",
    "testset = torch.utils.data.DataLoader(test, batch_size=10, shuffle=True)"
   ]
  },
  {
   "cell_type": "code",
   "execution_count": 15,
   "metadata": {},
   "outputs": [
    {
     "name": "stdout",
     "output_type": "stream",
     "text": [
      "Net(\n",
      "  (fc1): Linear(in_features=784, out_features=64, bias=True)\n",
      "  (fc2): Linear(in_features=64, out_features=64, bias=True)\n",
      "  (fc3): Linear(in_features=64, out_features=64, bias=True)\n",
      "  (fc4): Linear(in_features=64, out_features=10, bias=True)\n",
      ")\n"
     ]
    }
   ],
   "source": [
    "class Net (nn.Module):\n",
    "    \n",
    "    def __init__(self):\n",
    "        super().__init__()\n",
    "        self.fc1 = nn.Linear(28*28, 64)\n",
    "        self.fc2 = nn.Linear(64, 64)\n",
    "        self.fc3 = nn.Linear(64, 64)\n",
    "        self.fc4 = nn.Linear(64, 10)\n",
    "        \n",
    "    def forward(self, x):\n",
    "        x = F.relu(self.fc1(x))\n",
    "        x = F.relu(self.fc2(x))\n",
    "        x = F.relu(self.fc3(x))\n",
    "        x = self.fc4(x)\n",
    "        x = F.log_softmax(x, dim=1)       \n",
    "        return x\n",
    "        \n",
    "        \n",
    "net = Net()\n",
    "print(net)"
   ]
  },
  {
   "cell_type": "code",
   "execution_count": 16,
   "metadata": {},
   "outputs": [],
   "source": [
    "X = torch.rand((28, 28))"
   ]
  },
  {
   "cell_type": "code",
   "execution_count": 17,
   "metadata": {},
   "outputs": [
    {
     "data": {
      "text/plain": [
       "tensor([[0.2885, 0.2034, 0.0851, 0.9778, 0.4673, 0.6163, 0.1604, 0.6781, 0.4747,\n",
       "         0.2501, 0.1749, 0.8841, 0.3775, 0.8345, 0.4553, 0.1580, 0.2777, 0.0427,\n",
       "         0.7309, 0.8518, 0.5010, 0.9544, 0.4715, 0.2920, 0.0807, 0.1620, 0.3317,\n",
       "         0.7114],\n",
       "        [0.5956, 0.6458, 0.4942, 0.8931, 0.6574, 0.3444, 0.3256, 0.5386, 0.0283,\n",
       "         0.4549, 0.0107, 0.1976, 0.8365, 0.1417, 0.6193, 0.7601, 0.5566, 0.2449,\n",
       "         0.2404, 0.5518, 0.1849, 0.0804, 0.7901, 0.8103, 0.5476, 0.5834, 0.6475,\n",
       "         0.3987],\n",
       "        [0.5515, 0.2813, 0.6600, 0.0207, 0.6464, 0.4981, 0.7119, 0.4944, 0.7999,\n",
       "         0.7874, 0.5076, 0.4644, 0.7057, 0.1615, 0.6760, 0.0112, 0.6959, 0.1182,\n",
       "         0.5268, 0.5513, 0.9430, 0.9667, 0.7048, 0.6494, 0.9187, 0.3834, 0.0083,\n",
       "         0.3635],\n",
       "        [0.7121, 0.6140, 0.2716, 0.6391, 0.4780, 0.6147, 0.6307, 0.9246, 0.3698,\n",
       "         0.7539, 0.4149, 0.6835, 0.5574, 0.6524, 0.7965, 0.5295, 0.9373, 0.5548,\n",
       "         0.6610, 0.3425, 0.6296, 0.7971, 0.1699, 0.7069, 0.0693, 0.3701, 0.8421,\n",
       "         0.4080],\n",
       "        [0.6766, 0.1857, 0.5311, 0.1187, 0.1106, 0.1811, 0.8277, 0.6192, 0.7164,\n",
       "         0.5866, 0.4419, 0.6423, 0.8233, 0.3776, 0.8651, 0.6019, 0.5121, 0.1583,\n",
       "         0.1379, 0.5887, 0.8402, 0.6204, 0.1153, 0.7515, 0.9408, 0.9383, 0.5895,\n",
       "         0.4114],\n",
       "        [0.9331, 0.6229, 0.0059, 0.7913, 0.0847, 0.6569, 0.7167, 0.1944, 0.9018,\n",
       "         0.5978, 0.1894, 0.4517, 0.2577, 0.5892, 0.7779, 0.7431, 0.9314, 0.8401,\n",
       "         0.1999, 0.4333, 0.5725, 0.6111, 0.9474, 0.4276, 0.4892, 0.2452, 0.8992,\n",
       "         0.8539],\n",
       "        [0.5594, 0.3813, 0.1965, 0.8356, 0.8618, 0.7841, 0.8402, 0.0573, 0.2123,\n",
       "         0.2356, 0.6292, 0.4091, 0.1057, 0.2243, 0.3049, 0.9861, 0.8765, 0.9594,\n",
       "         0.6934, 0.8954, 0.3734, 0.6918, 0.4304, 0.9904, 0.3643, 0.2143, 0.4597,\n",
       "         0.6791],\n",
       "        [0.7347, 0.3987, 0.8781, 0.1667, 0.9518, 0.8322, 0.3514, 0.7143, 0.3861,\n",
       "         0.6717, 0.9105, 0.8687, 0.8666, 0.5337, 0.4526, 0.6764, 0.5544, 0.5540,\n",
       "         0.4189, 0.6133, 0.6030, 0.1462, 0.9928, 0.2069, 0.7150, 0.9922, 0.4102,\n",
       "         0.0196],\n",
       "        [0.9658, 0.5345, 0.4789, 0.0783, 0.9344, 0.1336, 0.9656, 0.1690, 0.8847,\n",
       "         0.9434, 0.9360, 0.8713, 0.7269, 0.6090, 0.5349, 0.8682, 0.5421, 0.5127,\n",
       "         0.6682, 0.7873, 0.0400, 0.2860, 0.1606, 0.2449, 0.1979, 0.7145, 0.0049,\n",
       "         0.4073],\n",
       "        [0.2505, 0.9173, 0.8448, 0.4220, 0.0084, 0.1512, 0.3879, 0.7763, 0.3356,\n",
       "         0.7967, 0.2327, 0.5465, 0.3845, 0.8558, 0.7992, 0.7381, 0.1142, 0.0088,\n",
       "         0.6675, 0.5374, 0.9139, 0.8619, 0.7178, 0.9538, 0.6514, 0.6258, 0.3929,\n",
       "         0.1619],\n",
       "        [0.8089, 0.2251, 0.4647, 0.5962, 0.8841, 0.4601, 0.1471, 0.7597, 0.1708,\n",
       "         0.2557, 0.6200, 0.7419, 0.3121, 0.5348, 0.0774, 0.3972, 0.0513, 0.6447,\n",
       "         0.3592, 0.1751, 0.4613, 0.8181, 0.0844, 0.1445, 0.8889, 0.1930, 0.7432,\n",
       "         0.6761],\n",
       "        [0.2699, 0.9926, 0.1188, 0.6123, 0.5739, 0.1425, 0.5492, 0.3030, 0.2617,\n",
       "         0.7746, 0.8021, 0.1061, 0.7834, 0.9164, 0.5711, 0.1319, 0.0047, 0.3670,\n",
       "         0.9088, 0.4192, 0.9513, 0.7506, 0.7092, 0.0626, 0.3672, 0.5428, 0.2156,\n",
       "         0.7163],\n",
       "        [0.5198, 0.3259, 0.5994, 0.2101, 0.7068, 0.4159, 0.2441, 0.7914, 0.4279,\n",
       "         0.6912, 0.4021, 0.1655, 0.7169, 0.9554, 0.4786, 0.9982, 0.5582, 0.1397,\n",
       "         0.2236, 0.6902, 0.9273, 0.6523, 0.1593, 0.9891, 0.4694, 0.7698, 0.8932,\n",
       "         0.8790],\n",
       "        [0.8004, 0.9514, 0.5921, 0.0983, 0.1241, 0.9977, 0.2271, 0.3673, 0.0858,\n",
       "         0.9601, 0.0464, 0.6820, 0.5131, 0.6841, 0.2122, 0.8950, 0.3061, 0.3747,\n",
       "         0.8459, 0.3694, 0.1508, 0.2325, 0.2169, 0.2493, 0.5445, 0.6492, 0.5300,\n",
       "         0.9554],\n",
       "        [0.8813, 0.5745, 0.0925, 0.6505, 0.8865, 0.1116, 0.5007, 0.9897, 0.6916,\n",
       "         0.4421, 0.4659, 0.9911, 0.9128, 0.4584, 0.2699, 0.0085, 0.7309, 0.6294,\n",
       "         0.4005, 0.8858, 0.3770, 0.6737, 0.4543, 0.7640, 0.2281, 0.4186, 0.6528,\n",
       "         0.4532],\n",
       "        [0.0491, 0.1847, 0.0229, 0.9385, 0.9753, 0.3866, 0.0471, 0.4738, 0.6881,\n",
       "         0.3341, 0.9392, 0.7932, 0.4448, 0.9776, 0.3999, 0.1310, 0.3285, 0.3569,\n",
       "         0.2499, 0.6597, 0.0627, 0.2154, 0.1783, 0.3672, 0.5733, 0.1815, 0.9227,\n",
       "         0.5874],\n",
       "        [0.6733, 0.4502, 0.2297, 0.0604, 0.5885, 0.8857, 0.9885, 0.5953, 0.6667,\n",
       "         0.7814, 0.3288, 0.3307, 0.7781, 0.7670, 0.0917, 0.2698, 0.3218, 0.3140,\n",
       "         0.4734, 0.3303, 0.0057, 0.8112, 0.8733, 0.6885, 0.4451, 0.2044, 0.9353,\n",
       "         0.0819],\n",
       "        [0.1668, 0.1036, 0.4794, 0.9520, 0.5250, 0.2487, 0.0550, 0.6570, 0.5965,\n",
       "         0.5974, 0.5929, 0.4559, 0.1257, 0.2406, 0.7131, 0.6575, 0.7535, 0.4470,\n",
       "         0.9814, 0.6961, 0.5540, 0.6319, 0.8148, 0.6677, 0.5424, 0.1441, 0.7442,\n",
       "         0.8195],\n",
       "        [0.5036, 0.8184, 0.4402, 0.9972, 0.3395, 0.0613, 0.8741, 0.3296, 0.7414,\n",
       "         0.8091, 0.9855, 0.6154, 0.7802, 0.5634, 0.1016, 0.7704, 0.6769, 0.1412,\n",
       "         0.7143, 0.2689, 0.6727, 0.4438, 0.8768, 0.2636, 0.5432, 0.6804, 0.3163,\n",
       "         0.2373],\n",
       "        [0.1455, 0.2748, 0.5986, 0.8211, 0.7349, 0.5769, 0.2520, 0.8720, 0.1568,\n",
       "         0.3733, 0.3879, 0.3156, 0.9440, 0.2019, 0.9508, 0.1589, 0.1764, 0.8942,\n",
       "         0.8988, 0.8295, 0.5560, 0.9495, 0.9772, 0.3839, 0.2194, 0.8845, 0.5485,\n",
       "         0.8662],\n",
       "        [0.9053, 0.9081, 0.1190, 0.2853, 0.9033, 0.7769, 0.1595, 0.2161, 0.9994,\n",
       "         0.5999, 0.6026, 0.4407, 0.7096, 0.7717, 0.6528, 0.6626, 0.5557, 0.9284,\n",
       "         0.7405, 0.1580, 0.2744, 0.0823, 0.1396, 0.2064, 0.2223, 0.8089, 0.2087,\n",
       "         0.9313],\n",
       "        [0.9916, 0.8076, 0.5062, 0.2788, 0.6619, 0.6385, 0.4325, 0.2925, 0.4474,\n",
       "         0.7387, 0.0953, 0.2302, 0.8018, 0.8965, 0.8705, 0.4522, 0.5782, 0.0787,\n",
       "         0.9876, 0.7208, 0.4397, 0.1912, 0.8470, 0.4587, 0.7430, 0.5854, 0.8356,\n",
       "         0.4028],\n",
       "        [0.6315, 0.5445, 0.1515, 0.1059, 0.8436, 0.0035, 0.6893, 0.4643, 0.7861,\n",
       "         0.2529, 0.4594, 0.6104, 0.3156, 0.9503, 0.8779, 0.1453, 0.3567, 0.9840,\n",
       "         0.3516, 0.2258, 0.1875, 0.4033, 0.2094, 0.5702, 0.0432, 0.0117, 0.7047,\n",
       "         0.6952],\n",
       "        [0.9695, 0.6200, 0.6146, 0.9811, 0.7676, 0.9259, 0.8487, 0.1272, 0.5623,\n",
       "         0.3834, 0.9174, 0.0882, 0.5891, 0.7541, 0.0982, 0.3123, 0.1188, 0.3967,\n",
       "         0.0314, 0.3280, 0.9582, 0.7285, 0.1115, 0.7338, 0.1963, 0.4968, 0.3845,\n",
       "         0.6992],\n",
       "        [0.9711, 0.5102, 0.3619, 0.2018, 0.0782, 0.6334, 0.9910, 0.3984, 0.7301,\n",
       "         0.2013, 0.8750, 0.0270, 0.8654, 0.3681, 0.3830, 0.9708, 0.3950, 0.1351,\n",
       "         0.3075, 0.0154, 0.7925, 0.9906, 0.2148, 0.1195, 0.5521, 0.7531, 0.7079,\n",
       "         0.6017],\n",
       "        [0.3901, 0.6407, 0.0857, 0.0350, 0.8977, 0.8487, 0.2312, 0.2209, 0.5440,\n",
       "         0.4775, 0.5715, 0.4788, 0.4429, 0.6669, 0.8820, 0.2418, 0.3512, 0.9573,\n",
       "         0.0022, 0.7094, 0.0762, 0.3739, 0.3519, 0.0865, 0.9591, 0.3192, 0.3700,\n",
       "         0.6513],\n",
       "        [0.9644, 0.6987, 0.3550, 0.2136, 0.3660, 0.3836, 0.2901, 0.4501, 0.0729,\n",
       "         0.3532, 0.7485, 0.3685, 0.1570, 0.5484, 0.5678, 0.3806, 0.8617, 0.8328,\n",
       "         0.8288, 0.5016, 0.5272, 0.0955, 0.8167, 0.2520, 0.0388, 0.7353, 0.8866,\n",
       "         0.2433],\n",
       "        [0.3585, 0.4929, 0.5708, 0.0977, 0.0091, 0.2722, 0.1456, 0.6485, 0.3860,\n",
       "         0.2221, 0.9197, 0.7116, 0.3120, 0.9123, 0.1754, 0.0332, 0.1866, 0.6262,\n",
       "         0.6026, 0.6075, 0.6685, 0.5621, 0.2013, 0.8453, 0.8479, 0.3952, 0.3276,\n",
       "         0.0926]])"
      ]
     },
     "execution_count": 17,
     "metadata": {},
     "output_type": "execute_result"
    }
   ],
   "source": [
    "X"
   ]
  },
  {
   "cell_type": "code",
   "execution_count": 18,
   "metadata": {},
   "outputs": [],
   "source": [
    "output = net(X.view(-1, 784))"
   ]
  },
  {
   "cell_type": "code",
   "execution_count": 19,
   "metadata": {},
   "outputs": [
    {
     "data": {
      "text/plain": [
       "tensor([[-2.2206, -2.2508, -2.3148, -2.3511, -2.2532, -2.2329, -2.2039, -2.4318,\n",
       "         -2.4717, -2.3317]], grad_fn=<LogSoftmaxBackward>)"
      ]
     },
     "execution_count": 19,
     "metadata": {},
     "output_type": "execute_result"
    }
   ],
   "source": [
    "output"
   ]
  },
  {
   "cell_type": "markdown",
   "metadata": {},
   "source": [
    "#### PART 4"
   ]
  },
  {
   "cell_type": "code",
   "execution_count": 20,
   "metadata": {},
   "outputs": [
    {
     "name": "stdout",
     "output_type": "stream",
     "text": [
      "tensor(0.0506, grad_fn=<NllLossBackward>)\n",
      "tensor(0.0059, grad_fn=<NllLossBackward>)\n",
      "tensor(0.0110, grad_fn=<NllLossBackward>)\n"
     ]
    }
   ],
   "source": [
    "import torch.optim as optim\n",
    "optimizer = optim.Adam(net.parameters(), lr = 1e-3)\n",
    "\n",
    "EPOCHS = 3\n",
    "\n",
    "for epoch in range(EPOCHS):\n",
    "    for data in trainset:\n",
    "        X, y = data\n",
    "        net.zero_grad()\n",
    "        output = net(X.view(-1, 28*28))\n",
    "        loss = F.nll_loss(output, y)\n",
    "        loss.backward()\n",
    "        optimizer.step()\n",
    "    print(loss)"
   ]
  },
  {
   "cell_type": "code",
   "execution_count": 22,
   "metadata": {},
   "outputs": [
    {
     "name": "stdout",
     "output_type": "stream",
     "text": [
      "Accuracy:  0.9684\n"
     ]
    }
   ],
   "source": [
    "correct= 0\n",
    "total = 0\n",
    "with torch.no_grad():\n",
    "    for data in testset:\n",
    "        X, y = data\n",
    "        output = net(X.view(-1, 784))\n",
    "        for idx, i in enumerate(output):\n",
    "            if torch.argmax(i) == y[idx]:\n",
    "                correct += 1\n",
    "            total += 1\n",
    "print(\"Accuracy: \", correct/total)"
   ]
  },
  {
   "cell_type": "code",
   "execution_count": 29,
   "metadata": {},
   "outputs": [
    {
     "data": {
      "text/plain": [
       "<matplotlib.image.AxesImage at 0x7f19a31d8150>"
      ]
     },
     "execution_count": 29,
     "metadata": {},
     "output_type": "execute_result"
    },
    {
     "data": {
      "image/png": "[encoded data removed]",
      "text/plain": [
       "<Figure size 432x288 with 1 Axes>"
      ]
     },
     "metadata": {
      "needs_background": "light"
     },
     "output_type": "display_data"
    }
   ],
   "source": [
    "import matplotlib.pyplot as plt\n",
    "plt.imshow(X[8].view(28, 28))"
   ]
  },
  {
   "cell_type": "code",
   "execution_count": 30,
   "metadata": {},
   "outputs": [
    {
     "data": {
      "text/plain": [
       "tensor(4)"
      ]
     },
     "execution_count": 30,
     "metadata": {},
     "output_type": "execute_result"
    }
   ],
   "source": [
    "torch.argmax(net(X[8].view(-1, 784)))"
   ]
  }
 ],
 "metadata": {
  "kernelspec": {
   "display_name": "Python 3",
   "language": "python",
   "name": "python3"
  },
  "language_info": {
   "codemirror_mode": {
    "name": "ipython",
    "version": 3
   },
   "file_extension": ".py",
   "mimetype": "text/x-python",
   "name": "python",
   "nbconvert_exporter": "python",
   "pygments_lexer": "ipython3",
   "version": "3.7.4"
  }
 },
 "nbformat": 4,
 "nbformat_minor": 2
}
